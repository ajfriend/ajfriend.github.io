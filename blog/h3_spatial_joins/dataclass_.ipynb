{
 "cells": [
  {
   "cell_type": "code",
   "execution_count": 1,
   "metadata": {},
   "outputs": [],
   "source": [
    "import numpy as np\n",
    "import h3\n",
    "from dataclasses import dataclass\n",
    "\n",
    "@dataclass\n",
    "class State:\n",
    "    i: int\n",
    "    j: int\n",
    "    k: int\n",
    "    arr: list\n",
    "        \n",
    "    def copy(self):\n",
    "        return State(self.i, self.j, self.k, list(self.arr))\n"
   ]
  },
  {
   "cell_type": "code",
   "execution_count": 2,
   "metadata": {},
   "outputs": [
    {
     "data": {
      "text/plain": [
       "State(i=0, j=0, k=0, arr=[])"
      ]
     },
     "execution_count": 2,
     "metadata": {},
     "output_type": "execute_result"
    }
   ],
   "source": [
    "State(0,0,0,[]).copy()"
   ]
  },
  {
   "cell_type": "code",
   "execution_count": 3,
   "metadata": {},
   "outputs": [],
   "source": [
    "def get_siblings(h):\n",
    "    p = h3.h3_to_parent(h)\n",
    "    sibs = h3.h3_to_children(p)\n",
    "    sibs = sorted(sibs)\n",
    "    \n",
    "    return sibs\n",
    "\n",
    "def get_next_sibling(h):\n",
    "    \"\"\" Returns None if h is the last child\n",
    "    \"\"\"\n",
    "    sibs = get_siblings(h)\n",
    "    i = sibs.index(h) + 1\n",
    "    \n",
    "    if i >= len(sibs):\n",
    "        return None\n",
    "    else:\n",
    "        return sibs[i]\n",
    "    \n",
    "def get_prev_sibling(h):\n",
    "    \"\"\" Returns None if h is the first child\n",
    "    \"\"\"\n",
    "    sibs = get_siblings(h)\n",
    "    i = sibs.index(h) - 1\n",
    "    \n",
    "    if i < 0:\n",
    "        return None\n",
    "    else:\n",
    "        return sibs[i]\n",
    "    \n",
    "def is_a_first_child(h):\n",
    "    if h3.h3_get_resolution(h) == 0:\n",
    "        return False\n",
    "\n",
    "    if get_prev_sibling(h) is None:\n",
    "        return True\n",
    "    else:\n",
    "        return False\n",
    "    \n",
    "def is_first_descendent_of(p, h):\n",
    "    res_p = h3.h3_get_resolution(p)\n",
    "    res_h = h3.h3_get_resolution(h)\n",
    "    \n",
    "    if res_p <= res_h and h3.h3_to_parent(h, res_p):\n",
    "        return is_a_first_child(h)\n",
    "    else:\n",
    "        return False\n",
    "    \n",
    "def siblings_up_to(h):\n",
    "    sibs = get_siblings(h)\n",
    "    for sib in sibs:\n",
    "        yield sib\n",
    "        if sib == h:\n",
    "            break"
   ]
  },
  {
   "cell_type": "code",
   "execution_count": 4,
   "metadata": {},
   "outputs": [],
   "source": [
    "h = h3.geo_to_h3(0,0,5)"
   ]
  },
  {
   "cell_type": "code",
   "execution_count": 5,
   "metadata": {},
   "outputs": [
    {
     "data": {
      "text/plain": [
       "['85754e63fffffff',\n",
       " '85754e67fffffff',\n",
       " '85754e6bfffffff',\n",
       " '85754e6ffffffff',\n",
       " '85754e73fffffff',\n",
       " '85754e77fffffff',\n",
       " '85754e7bfffffff']"
      ]
     },
     "execution_count": 5,
     "metadata": {},
     "output_type": "execute_result"
    }
   ],
   "source": [
    "get_siblings(h)"
   ]
  },
  {
   "cell_type": "code",
   "execution_count": 6,
   "metadata": {},
   "outputs": [],
   "source": [
    "def step(state):\n",
    "    state = state.copy()\n",
    "    i = state.i\n",
    "    j = state.j\n",
    "    k = state.k\n",
    "    arr = state.arr\n",
    "    \n",
    "    assert i <= j <= k <= len(arr)\n",
    "  \n",
    "    # check for completed set...\n",
    "    if i < j:\n",
    "        h = arr[j-1]\n",
    "        # check for completed children set\n",
    "        if get_next_sibling(h) is None:\n",
    "            j -= 7 # need to work on pentagons\n",
    "            \n",
    "            # can't just automatically put it on the stack\n",
    "            # arr[j] = h3.h3_to_parent(h)\n",
    "            # j += 1\n",
    "            \n",
    "            # gotta put it at the top of the input\n",
    "            k -= 1\n",
    "            arr[k] = h3.h3_to_parent(h)\n",
    "            return State(i,j,k,arr)\n",
    "\n",
    "    # this can't go before the completed set check. why? what's the loop invariant we need?\n",
    "    if k >= len(arr):\n",
    "        raise Exception('done iterating') # maybe flush stack?\n",
    "        \n",
    "    if i == j:  # if stack is empty\n",
    "        h = arr[k]\n",
    "        \n",
    "        if is_a_first_child(h):\n",
    "            arr[j] = arr[k]\n",
    "            j += 1\n",
    "            k += 1\n",
    "            return State(i,j,k,arr)\n",
    "        else:\n",
    "            # flush element and stack stays empty\n",
    "            arr[j] = arr[k]\n",
    "            i += 1\n",
    "            j += 1\n",
    "            k += 1\n",
    "            return State(i,j,k,arr)\n",
    "            \n",
    "    \n",
    "    if i < j: # stack not empty\n",
    "        h = arr[k]\n",
    "        k += 1\n",
    "        \n",
    "        # easy to check next sibling with subtraction: expect a 1, just shifted by resolution\n",
    "        next_wanted = get_next_sibling(arr[j-1])\n",
    "        \n",
    "        if h == next_wanted:\n",
    "            # push h onto stack\n",
    "            arr[j] = h\n",
    "            j += 1\n",
    "            return State(i,j,k,arr)\n",
    "        \n",
    "        elif is_first_descendent_of(next_wanted, h):  ## we can combine these two!!!\n",
    "            arr[j] = h\n",
    "            j += 1\n",
    "            return State(i,j,k,arr)\n",
    "        else: # flush the stack\n",
    "            i = j # make stack empty\n",
    "            k -= 1 # re run that element\n",
    "            return State(i,j,k,arr)\n",
    "\n",
    "\n",
    "    "
   ]
  },
  {
   "cell_type": "code",
   "execution_count": 19,
   "metadata": {},
   "outputs": [],
   "source": [
    "h = h3.geo_to_h3(0,0,5)\n",
    "hexes = sorted(h3.h3_to_children(h, 7))  #[1:]\n",
    "\n",
    "# h = h3.geo_to_h3(0,0,9)\n",
    "# hexes = sorted(h3.k_ring(h, 10))\n",
    "\n",
    "state = State(0,0,0, hexes)\n",
    "#hexes"
   ]
  },
  {
   "cell_type": "code",
   "execution_count": 20,
   "metadata": {},
   "outputs": [
    {
     "data": {
      "text/plain": [
       "'85754e67fffffff'"
      ]
     },
     "execution_count": 20,
     "metadata": {},
     "output_type": "execute_result"
    }
   ],
   "source": [
    "h"
   ]
  },
  {
   "cell_type": "code",
   "execution_count": 21,
   "metadata": {},
   "outputs": [
    {
     "data": {
      "text/plain": [
       "49"
      ]
     },
     "execution_count": 21,
     "metadata": {},
     "output_type": "execute_result"
    }
   ],
   "source": [
    "len(hexes)"
   ]
  },
  {
   "cell_type": "code",
   "execution_count": 22,
   "metadata": {},
   "outputs": [
    {
     "ename": "Exception",
     "evalue": "done iterating",
     "output_type": "error",
     "traceback": [
      "\u001b[0;31m---------------------------------------------------------------------------\u001b[0m",
      "\u001b[0;31mException\u001b[0m                                 Traceback (most recent call last)",
      "\u001b[0;32m<ipython-input-22-887250ebda4b>\u001b[0m in \u001b[0;36m<module>\u001b[0;34m\u001b[0m\n\u001b[1;32m      1\u001b[0m \u001b[0;32mfor\u001b[0m \u001b[0m_\u001b[0m \u001b[0;32min\u001b[0m \u001b[0mrange\u001b[0m\u001b[0;34m(\u001b[0m\u001b[0;36m10000\u001b[0m\u001b[0;34m)\u001b[0m\u001b[0;34m:\u001b[0m\u001b[0;34m\u001b[0m\u001b[0;34m\u001b[0m\u001b[0m\n\u001b[0;32m----> 2\u001b[0;31m     \u001b[0mstate\u001b[0m \u001b[0;34m=\u001b[0m \u001b[0mstep\u001b[0m\u001b[0;34m(\u001b[0m\u001b[0mstate\u001b[0m\u001b[0;34m)\u001b[0m\u001b[0;34m\u001b[0m\u001b[0;34m\u001b[0m\u001b[0m\n\u001b[0m",
      "\u001b[0;32m<ipython-input-6-bafda0e2ece0>\u001b[0m in \u001b[0;36mstep\u001b[0;34m(state)\u001b[0m\n\u001b[1;32m     26\u001b[0m     \u001b[0;31m# this can't go before the completed set check. why? what's the loop invariant we need?\u001b[0m\u001b[0;34m\u001b[0m\u001b[0;34m\u001b[0m\u001b[0;34m\u001b[0m\u001b[0m\n\u001b[1;32m     27\u001b[0m     \u001b[0;32mif\u001b[0m \u001b[0mk\u001b[0m \u001b[0;34m>=\u001b[0m \u001b[0mlen\u001b[0m\u001b[0;34m(\u001b[0m\u001b[0marr\u001b[0m\u001b[0;34m)\u001b[0m\u001b[0;34m:\u001b[0m\u001b[0;34m\u001b[0m\u001b[0;34m\u001b[0m\u001b[0m\n\u001b[0;32m---> 28\u001b[0;31m         \u001b[0;32mraise\u001b[0m \u001b[0mException\u001b[0m\u001b[0;34m(\u001b[0m\u001b[0;34m'done iterating'\u001b[0m\u001b[0;34m)\u001b[0m \u001b[0;31m# maybe flush stack?\u001b[0m\u001b[0;34m\u001b[0m\u001b[0;34m\u001b[0m\u001b[0m\n\u001b[0m\u001b[1;32m     29\u001b[0m \u001b[0;34m\u001b[0m\u001b[0m\n\u001b[1;32m     30\u001b[0m     \u001b[0;32mif\u001b[0m \u001b[0mi\u001b[0m \u001b[0;34m==\u001b[0m \u001b[0mj\u001b[0m\u001b[0;34m:\u001b[0m  \u001b[0;31m# if stack is empty\u001b[0m\u001b[0;34m\u001b[0m\u001b[0;34m\u001b[0m\u001b[0m\n",
      "\u001b[0;31mException\u001b[0m: done iterating"
     ]
    }
   ],
   "source": [
    "for _ in range(10000):\n",
    "    state = step(state)"
   ]
  },
  {
   "cell_type": "code",
   "execution_count": 23,
   "metadata": {},
   "outputs": [
    {
     "data": {
      "text/plain": [
       "1"
      ]
     },
     "execution_count": 23,
     "metadata": {},
     "output_type": "execute_result"
    }
   ],
   "source": [
    "state.j"
   ]
  },
  {
   "cell_type": "code",
   "execution_count": 24,
   "metadata": {},
   "outputs": [
    {
     "data": {
      "text/plain": [
       "['85754e67fffffff']"
      ]
     },
     "execution_count": 24,
     "metadata": {},
     "output_type": "execute_result"
    }
   ],
   "source": [
    "state.arr[:state.j]"
   ]
  },
  {
   "cell_type": "code",
   "execution_count": 16,
   "metadata": {},
   "outputs": [
    {
     "data": {
      "text/plain": [
       "[]"
      ]
     },
     "execution_count": 16,
     "metadata": {},
     "output_type": "execute_result"
    }
   ],
   "source": [
    "state.arr[state.i:state.j]"
   ]
  },
  {
   "cell_type": "code",
   "execution_count": 17,
   "metadata": {},
   "outputs": [
    {
     "data": {
      "text/plain": [
       "[]"
      ]
     },
     "execution_count": 17,
     "metadata": {},
     "output_type": "execute_result"
    }
   ],
   "source": [
    "state.arr[state.k:]"
   ]
  },
  {
   "cell_type": "code",
   "execution_count": 148,
   "metadata": {},
   "outputs": [
    {
     "data": {
      "text/plain": [
       "(79, 79, 331)"
      ]
     },
     "execution_count": 148,
     "metadata": {},
     "output_type": "execute_result"
    }
   ],
   "source": [
    "state.i, state.j, state.k"
   ]
  },
  {
   "cell_type": "code",
   "execution_count": 115,
   "metadata": {},
   "outputs": [],
   "source": [
    "state0 = state.copy()"
   ]
  },
  {
   "cell_type": "code",
   "execution_count": 117,
   "metadata": {},
   "outputs": [],
   "source": [
    "#state0"
   ]
  },
  {
   "cell_type": "code",
   "execution_count": null,
   "metadata": {},
   "outputs": [],
   "source": []
  }
 ],
 "metadata": {
  "kernelspec": {
   "display_name": "Python 3",
   "language": "python",
   "name": "python3"
  },
  "language_info": {
   "codemirror_mode": {
    "name": "ipython",
    "version": 3
   },
   "file_extension": ".py",
   "mimetype": "text/x-python",
   "name": "python",
   "nbconvert_exporter": "python",
   "pygments_lexer": "ipython3",
   "version": "3.8.5"
  }
 },
 "nbformat": 4,
 "nbformat_minor": 4
}
