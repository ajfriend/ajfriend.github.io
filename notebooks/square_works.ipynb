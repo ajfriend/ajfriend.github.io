{
 "cells": [
  {
   "cell_type": "code",
   "execution_count": 1,
   "id": "2ad96c7c-d2e5-401e-8d4d-059b6155d690",
   "metadata": {},
   "outputs": [],
   "source": [
    "import numpy as np\n",
    "import matplotlib.pyplot as plt\n",
    "import cvxpy as cvx"
   ]
  },
  {
   "cell_type": "code",
   "execution_count": 2,
   "id": "04642f2f-b92a-4de1-bedb-6d5967520838",
   "metadata": {},
   "outputs": [
    {
     "data": {
      "text/plain": [
       "0.09999999999951531"
      ]
     },
     "execution_count": 2,
     "metadata": {},
     "output_type": "execute_result"
    }
   ],
   "source": [
    "x0 = cvx.Variable()\n",
    "y0 = cvx.Variable()\n",
    "cst = [\n",
    "    0 <= x0,\n",
    "    x0 <= 1,\n",
    "    y0 >= x0,\n",
    "\n",
    "    \n",
    "    \n",
    "    x0 >= .1,\n",
    "]\n",
    "\n",
    "obj = cvx.Minimize(y0)\n",
    "\n",
    "prob = cvx.Problem(obj, cst)\n",
    "prob.solve()"
   ]
  },
  {
   "cell_type": "code",
   "execution_count": 3,
   "id": "c99bcc6e-7dd8-4b73-9284-e7731e6998ce",
   "metadata": {},
   "outputs": [],
   "source": [
    "def foo(a):\n",
    "    x0 = cvx.Variable()\n",
    "    y0 = cvx.Variable()\n",
    "    x1 = cvx.Variable()\n",
    "    y1 = cvx.Variable()\n",
    "\n",
    "    cst = [\n",
    "        0 <= x0,\n",
    "        x0 <= 1,\n",
    "        y0 >= x0,\n",
    "\n",
    "        x0 >= cvx.abs(x1 - 1),\n",
    "        y0 <= y1 - 2*x1 + 1,\n",
    "\n",
    "        x1 >= a,\n",
    "    ]\n",
    "\n",
    "    obj = cvx.Minimize(y1)\n",
    "\n",
    "    prob = cvx.Problem(obj, cst)\n",
    "    return prob.solve()"
   ]
  },
  {
   "cell_type": "code",
   "execution_count": 4,
   "id": "dce5b17d-28ac-4748-bec0-2bb5b23a79f5",
   "metadata": {},
   "outputs": [],
   "source": [
    "x = np.linspace(0,2,100)\n",
    "y = [foo(a)for a in x]"
   ]
  },
  {
   "cell_type": "code",
   "execution_count": 5,
   "id": "cb512ab7-2508-4c0a-b81a-d25c0a0c28b4",
   "metadata": {},
   "outputs": [
    {
     "data": {
      "text/plain": [
       "[<matplotlib.lines.Line2D at 0x12b00e110>]"
      ]
     },
     "execution_count": 5,
     "metadata": {},
     "output_type": "execute_result"
    },
    {
     "data": {
      "image/png": "[encoded data removed]",
      "text/plain": [
       "<Figure size 432x288 with 1 Axes>"
      ]
     },
     "metadata": {
      "needs_background": "light"
     },
     "output_type": "display_data"
    }
   ],
   "source": [
    "plt.plot(x,y)\n",
    "plt.plot(x, x**2)"
   ]
  },
  {
   "cell_type": "code",
   "execution_count": 32,
   "id": "641cf253-f7a1-4047-a4ef-3d09a5297d4c",
   "metadata": {},
   "outputs": [],
   "source": [
    "def foo(a):\n",
    "    x0 = cvx.Variable()\n",
    "    y0 = cvx.Variable()\n",
    "    x1 = cvx.Variable()\n",
    "    y1 = cvx.Variable()\n",
    "    x2 = cvx.Variable()\n",
    "    y2 = cvx.Variable()\n",
    "\n",
    "    cst = [\n",
    "        0 <= x0,\n",
    "        x0 <= 1,\n",
    "        y0 >= x0,\n",
    "\n",
    "        x0 >= cvx.abs(x1 - 1),\n",
    "        y0 <= y1 - 2*x1 + 1,\n",
    "        \n",
    "        x1 >= cvx.abs(x2 - 2),\n",
    "        y1 <= y2 - 2*x2*2 + 4,\n",
    "\n",
    "        x2 >= a,\n",
    "    ]\n",
    "\n",
    "    obj = cvx.Minimize(y2)\n",
    "\n",
    "    prob = cvx.Problem(obj, cst)\n",
    "    return prob.solve()"
   ]
  },
  {
   "cell_type": "code",
   "execution_count": 33,
   "id": "5cefb8ac-e01b-4450-ab93-a616491c822a",
   "metadata": {},
   "outputs": [],
   "source": [
    "x = np.linspace(0,4,100)\n",
    "y = [foo(a)for a in x]"
   ]
  },
  {
   "cell_type": "code",
   "execution_count": 34,
   "id": "ba094af0-81f0-49bc-9ced-229635905692",
   "metadata": {},
   "outputs": [
    {
     "data": {
      "text/plain": [
       "[<matplotlib.lines.Line2D at 0x128cbe210>]"
      ]
     },
     "execution_count": 34,
     "metadata": {},
     "output_type": "execute_result"
    },
    {
     "data": {
      "image/png": "[encoded data removed]",
      "text/plain": [
       "<Figure size 432x288 with 1 Axes>"
      ]
     },
     "metadata": {
      "needs_background": "light"
     },
     "output_type": "display_data"
    }
   ],
   "source": [
    "plt.plot(x,y)\n",
    "plt.plot(x, x**2)"
   ]
  },
  {
   "cell_type": "code",
   "execution_count": null,
   "id": "23a41586-f05b-4022-bf3a-4227c9ee298e",
   "metadata": {},
   "outputs": [],
   "source": []
  },
  {
   "cell_type": "code",
   "execution_count": null,
   "id": "323e8955-ec74-4f2c-ab1e-761d8fa0f1eb",
   "metadata": {},
   "outputs": [],
   "source": [
    "    cst = [\n",
    "        0 <= x0,\n",
    "        x0 <= 1,\n",
    "        y0 >= x0,\n",
    "\n",
    "        x0 >= cvx.abs(x1 - 1),\n",
    "        y0 <= y1 - 2*x1 + 1,\n",
    "\n",
    "        x1 >= a,\n",
    "    ]\n",
    "\n",
    "    obj = cvx.Minimize(y1)"
   ]
  },
  {
   "cell_type": "code",
   "execution_count": 8,
   "id": "8a853db7-3b6c-418d-aca1-92ae3a9621e4",
   "metadata": {},
   "outputs": [],
   "source": [
    "def foo(a, eps, N):\n",
    "    # max will be eps*(2**N)\n",
    "    \n",
    "    x = cvx.Variable(N+1)\n",
    "    y = cvx.Variable(N+1)\n",
    "\n",
    "    cst = [\n",
    "        0 <= x[0],\n",
    "        x[0] <= eps,\n",
    "        y[0] >= x[0]*eps,\n",
    "    ]\n",
    "    \n",
    "    for i in range(N):\n",
    "        delta = eps*(2**i)\n",
    "        \n",
    "        cst += [\n",
    "            x[i] >= cvx.abs(x[i+1] - delta),\n",
    "            y[i] <= y[i+1] - 2*delta*x[i+1] + delta**2,\n",
    "        ]\n",
    "        \n",
    "    cst += [x[N] >= a]\n",
    "\n",
    "    obj = cvx.Minimize(y[N])\n",
    "\n",
    "    prob = cvx.Problem(obj, cst)\n",
    "\n",
    "    return prob, x, y"
   ]
  },
  {
   "cell_type": "code",
   "execution_count": 13,
   "id": "8524a0c7-81e2-4730-9720-e3e391b80f18",
   "metadata": {},
   "outputs": [],
   "source": [
    "prob, x, y = foo(.1, 1, 10)"
   ]
  },
  {
   "cell_type": "code",
   "execution_count": 17,
   "id": "9a835af8-b0e5-4a9a-bda9-84eefd1baafa",
   "metadata": {},
   "outputs": [
    {
     "data": {
      "text/plain": [
       "0.10000000004557812"
      ]
     },
     "execution_count": 17,
     "metadata": {},
     "output_type": "execute_result"
    }
   ],
   "source": [
    "prob.solve()"
   ]
  },
  {
   "cell_type": "code",
   "execution_count": 19,
   "id": "eded0130-8ce2-47e4-b680-247cd95f14af",
   "metadata": {},
   "outputs": [
    {
     "data": {
      "text/plain": [
       "Expression(AFFINE, UNKNOWN, ())"
      ]
     },
     "execution_count": 19,
     "metadata": {},
     "output_type": "execute_result"
    }
   ],
   "source": [
    "x[-1]"
   ]
  },
  {
   "cell_type": "code",
   "execution_count": 101,
   "id": "5cc0f21f-57e5-4cc9-ac83-846a055b755b",
   "metadata": {},
   "outputs": [],
   "source": [
    "eps = .1\n",
    "N = 3\n",
    "\n",
    "x = np.linspace(0, eps*(2**N), 100)\n",
    "y = [foo(a, eps, N).solve() for a in x]"
   ]
  },
  {
   "cell_type": "code",
   "execution_count": 102,
   "id": "2dbc3746-d897-486d-b2d4-56f80f44cc98",
   "metadata": {},
   "outputs": [
    {
     "data": {
      "image/png": "[encoded data removed]",
      "text/plain": [
       "<Figure size 1080x720 with 1 Axes>"
      ]
     },
     "metadata": {
      "needs_background": "light"
     },
     "output_type": "display_data"
    }
   ],
   "source": [
    "fig, ax = plt.subplots(figsize=(15,10))\n",
    "ax.plot(x,y, alpha=.3)\n",
    "ax.plot(x, x**2, alpha=.3)\n",
    "fig.savefig('test.png', dpi=300)"
   ]
  },
  {
   "cell_type": "code",
   "execution_count": null,
   "id": "f54c444a-7c50-4d0d-9c53-ca6cbd9233e9",
   "metadata": {},
   "outputs": [],
   "source": []
  }
 ],
 "metadata": {
  "kernelspec": {
   "display_name": "Python 3 (ipykernel)",
   "language": "python",
   "name": "python3"
  },
  "language_info": {
   "codemirror_mode": {
    "name": "ipython",
    "version": 3
   },
   "file_extension": ".py",
   "mimetype": "text/x-python",
   "name": "python",
   "nbconvert_exporter": "python",
   "pygments_lexer": "ipython3",
   "version": "3.7.12"
  }
 },
 "nbformat": 4,
 "nbformat_minor": 5
}
