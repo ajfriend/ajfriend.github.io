{
 "cells": [
  {
   "cell_type": "code",
   "execution_count": 31,
   "metadata": {},
   "outputs": [],
   "source": [
    "import numpy as np\n",
    "import h3\n",
    "\n",
    "h = h3.geo_to_h3(0,0,5)"
   ]
  },
  {
   "cell_type": "code",
   "execution_count": 32,
   "metadata": {},
   "outputs": [
    {
     "data": {
      "text/plain": [
       "'85754e67fffffff'"
      ]
     },
     "execution_count": 32,
     "metadata": {},
     "output_type": "execute_result"
    }
   ],
   "source": [
    "h"
   ]
  },
  {
   "cell_type": "code",
   "execution_count": 56,
   "metadata": {},
   "outputs": [],
   "source": [
    "def get_siblings(h):\n",
    "    p = h3.h3_to_parent(h)\n",
    "    sibs = h3.h3_to_children(p)\n",
    "    sibs = sorted(sibs)\n",
    "    \n",
    "    return sibs\n",
    "\n",
    "def get_next_sibling(h):\n",
    "    \"\"\" Returns None if h is the last child\n",
    "    \"\"\"\n",
    "    sibs = get_siblings(h)\n",
    "    i = sibs.index(h) + 1\n",
    "    \n",
    "    if i >= len(sibs):\n",
    "        return None\n",
    "    else:\n",
    "        return sibs[i]\n",
    "    \n",
    "def get_prev_sibling(h):\n",
    "    \"\"\" Returns None if h is the first child\n",
    "    \"\"\"\n",
    "    sibs = get_siblings(h)\n",
    "    i = sibs.index(h) - 1\n",
    "    \n",
    "    if i < 0:\n",
    "        return None\n",
    "    else:\n",
    "        return sibs[i]\n",
    "    \n",
    "def is_a_first_child(h):\n",
    "    if h3.h3_get_resolution(h) == 0:\n",
    "        return False\n",
    "\n",
    "    if get_prev_sibling(h) is None:\n",
    "        return True\n",
    "    \n",
    "def is_first_descendent_of(p, h):\n",
    "    res_p = h3.h3_get_resolution(p)\n",
    "    res_h = h3.h3_get_resolution(h)\n",
    "    \n",
    "    if res_p <= res_h and h3.h3_to_parent(h, res_p):\n",
    "        return is_a_first_child(h)\n",
    "    else:\n",
    "        return False\n",
    "    \n",
    "def siblings_up_to(h):\n",
    "    sibs = get_siblings(h)\n",
    "    for sib in sibs:\n",
    "        yield sib\n",
    "        if sib == h:\n",
    "            break"
   ]
  },
  {
   "cell_type": "code",
   "execution_count": 65,
   "metadata": {},
   "outputs": [
    {
     "data": {
      "text/plain": [
       "['85754e63fffffff',\n",
       " '85754e67fffffff',\n",
       " '85754e6bfffffff',\n",
       " '85754e6ffffffff',\n",
       " '85754e73fffffff',\n",
       " '85754e77fffffff',\n",
       " '85754e7bfffffff']"
      ]
     },
     "execution_count": 65,
     "metadata": {},
     "output_type": "execute_result"
    }
   ],
   "source": [
    "get_siblings(h)"
   ]
  },
  {
   "cell_type": "code",
   "execution_count": 171,
   "metadata": {},
   "outputs": [],
   "source": [
    "# b = list(h3.get_res0_indexes())[0]\n",
    "# hexes = h3.h3_to_children(b, 1)\n",
    "\n",
    "h = h3.geo_to_h3(0,0,5)\n",
    "\n",
    "inputs = get_siblings(h)#[h]\n",
    "stack = []\n",
    "out = []\n",
    "\n",
    "def step():\n",
    "    global stack\n",
    "    global out\n",
    "    global inputs\n",
    "    \n",
    "    \n",
    "    if stack:\n",
    "        h = stack[-1]\n",
    "        # completed children set\n",
    "        if get_next_sibling(h) is None:  # maybe need to worry about res 0 cells...\n",
    "            stack.pop()\n",
    "            inputs = [h3.h3_to_parent(h)] + inputs\n",
    "            return # end so that we can run step again\n",
    "        \n",
    "    \n",
    "    h = inputs[0]\n",
    "    inputs = inputs[1:]\n",
    "\n",
    "    if not stack:\n",
    "        if is_a_first_child(h):\n",
    "            stack.append(h)\n",
    "            return\n",
    "        else:\n",
    "            out.append(h)\n",
    "            return\n",
    "    \n",
    "    if stack:\n",
    "        next_hex = get_next_sibling(stack[-1])\n",
    "        \n",
    "        if h == next_hex:\n",
    "            stack[-1] = h # what if it completes the set?\n",
    "            return\n",
    "        elif is_first_descendent_of(next_hex, h):\n",
    "            stack.append(h)\n",
    "        else:\n",
    "            # flush the stack\n",
    "            for e in stack:\n",
    "                for h in siblings_up_to(e):\n",
    "                    out.append(h)\n",
    "            stack[:] = []\n",
    "    "
   ]
  },
  {
   "cell_type": "code",
   "execution_count": 187,
   "metadata": {},
   "outputs": [
    {
     "data": {
      "text/plain": [
       "['85754e6ffffffff', '85754e73fffffff', '85754e77fffffff', '85754e7bfffffff']"
      ]
     },
     "execution_count": 187,
     "metadata": {},
     "output_type": "execute_result"
    }
   ],
   "source": [
    "inputs"
   ]
  },
  {
   "cell_type": "code",
   "execution_count": 212,
   "metadata": {},
   "outputs": [
    {
     "ename": "IndexError",
     "evalue": "list index out of range",
     "output_type": "error",
     "traceback": [
      "\u001b[0;31m---------------------------------------------------------------------------\u001b[0m",
      "\u001b[0;31mIndexError\u001b[0m                                Traceback (most recent call last)",
      "\u001b[0;32m<ipython-input-212-4a15014ddc8f>\u001b[0m in \u001b[0;36m<module>\u001b[0;34m\u001b[0m\n\u001b[0;32m----> 1\u001b[0;31m \u001b[0mstep\u001b[0m\u001b[0;34m(\u001b[0m\u001b[0;34m)\u001b[0m\u001b[0;34m\u001b[0m\u001b[0;34m\u001b[0m\u001b[0m\n\u001b[0m",
      "\u001b[0;32m<ipython-input-171-15df200a9f14>\u001b[0m in \u001b[0;36mstep\u001b[0;34m()\u001b[0m\n\u001b[1;32m     23\u001b[0m \u001b[0;34m\u001b[0m\u001b[0m\n\u001b[1;32m     24\u001b[0m \u001b[0;34m\u001b[0m\u001b[0m\n\u001b[0;32m---> 25\u001b[0;31m     \u001b[0mh\u001b[0m \u001b[0;34m=\u001b[0m \u001b[0minputs\u001b[0m\u001b[0;34m[\u001b[0m\u001b[0;36m0\u001b[0m\u001b[0;34m]\u001b[0m\u001b[0;34m\u001b[0m\u001b[0;34m\u001b[0m\u001b[0m\n\u001b[0m\u001b[1;32m     26\u001b[0m     \u001b[0minputs\u001b[0m \u001b[0;34m=\u001b[0m \u001b[0minputs\u001b[0m\u001b[0;34m[\u001b[0m\u001b[0;36m1\u001b[0m\u001b[0;34m:\u001b[0m\u001b[0;34m]\u001b[0m\u001b[0;34m\u001b[0m\u001b[0;34m\u001b[0m\u001b[0m\n\u001b[1;32m     27\u001b[0m \u001b[0;34m\u001b[0m\u001b[0m\n",
      "\u001b[0;31mIndexError\u001b[0m: list index out of range"
     ]
    }
   ],
   "source": [
    "step()"
   ]
  },
  {
   "cell_type": "code",
   "execution_count": 213,
   "metadata": {},
   "outputs": [
    {
     "data": {
      "text/plain": [
       "[]"
      ]
     },
     "execution_count": 213,
     "metadata": {},
     "output_type": "execute_result"
    }
   ],
   "source": [
    "inputs"
   ]
  },
  {
   "cell_type": "code",
   "execution_count": 214,
   "metadata": {},
   "outputs": [
    {
     "data": {
      "text/plain": [
       "[]"
      ]
     },
     "execution_count": 214,
     "metadata": {},
     "output_type": "execute_result"
    }
   ],
   "source": [
    "stack"
   ]
  },
  {
   "cell_type": "code",
   "execution_count": 215,
   "metadata": {},
   "outputs": [
    {
     "data": {
      "text/plain": [
       "['84754e7ffffffff']"
      ]
     },
     "execution_count": 215,
     "metadata": {},
     "output_type": "execute_result"
    }
   ],
   "source": [
    "out"
   ]
  },
  {
   "cell_type": "code",
   "execution_count": null,
   "metadata": {},
   "outputs": [],
   "source": []
  }
 ],
 "metadata": {
  "kernelspec": {
   "display_name": "Python 3",
   "language": "python",
   "name": "python3"
  },
  "language_info": {
   "codemirror_mode": {
    "name": "ipython",
    "version": 3
   },
   "file_extension": ".py",
   "mimetype": "text/x-python",
   "name": "python",
   "nbconvert_exporter": "python",
   "pygments_lexer": "ipython3",
   "version": "3.8.5"
  }
 },
 "nbformat": 4,
 "nbformat_minor": 4
}
