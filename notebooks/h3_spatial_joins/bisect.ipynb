{
 "cells": [
  {
   "cell_type": "markdown",
   "metadata": {},
   "source": [
    "- some notes on bisection search\n",
    "- some code to generate test data for set intersection"
   ]
  },
  {
   "cell_type": "code",
   "execution_count": 42,
   "metadata": {},
   "outputs": [],
   "source": [
    "def prework(a,v):\n",
    "    \"\"\"\n",
    "    Return bounding i,j such that:\n",
    "\n",
    "        all(e < v      for e in a[:i])\n",
    "        all(    v <= e for e in a[j:])\n",
    "    \"\"\"\n",
    "    \n",
    "    if len(a) == 0:\n",
    "        return 0, 0\n",
    "    \n",
    "    if v <= a[0]:\n",
    "        return 0, 0\n",
    "    \n",
    "    if a[-1] < v:\n",
    "        return len(a), len(a)\n",
    "    # can't decrement j, because if equal, could go before (not the case if known unique!)\n",
    "        \n",
    "    return 1, len(a)\n",
    "\n",
    "\n",
    "def refine(a,v,i,j):\n",
    "    k = i + (j-i)//2\n",
    "\n",
    "    if v <= a[k]:\n",
    "        j = k\n",
    "\n",
    "    if a[k-1] < v:\n",
    "        i = k\n",
    "        \n",
    "    return i, j\n",
    "    \n",
    "    \n",
    "def search(a, v):\n",
    "    \"\"\"\n",
    "    `a` must be in ascending order\n",
    "    \n",
    "    find an `i` such that `a[i-1] < v <= a[i]`\n",
    "    \"\"\"\n",
    "    i, j = prework(a,v)\n",
    "\n",
    "    while i != j:\n",
    "        i,j = refine(a,v,i,j)\n",
    "\n",
    "    return i"
   ]
  },
  {
   "cell_type": "code",
   "execution_count": 73,
   "metadata": {},
   "outputs": [],
   "source": []
  },
  {
   "cell_type": "code",
   "execution_count": 300,
   "metadata": {},
   "outputs": [],
   "source": [
    "N = 100\n",
    "\n",
    "def rand_set(N=100, spread=2):\n",
    "    k = 5 + np.random.randint(N)\n",
    "    a = np.random.randint(k, size=k) + np.random.randint(N)*spread\n",
    "\n",
    "    a = sorted(set(a))\n",
    "\n",
    "    return a"
   ]
  },
  {
   "cell_type": "code",
   "execution_count": 329,
   "metadata": {},
   "outputs": [
    {
     "data": {
      "text/plain": [
       "0.425"
      ]
     },
     "execution_count": 329,
     "metadata": {},
     "output_type": "execute_result"
    }
   ],
   "source": [
    "def foo(N=100, spread=2):\n",
    "    a = rand_set(N=N,spread=spread)\n",
    "    b = rand_set(N=N,spread=spread)\n",
    "\n",
    "    a = set(a)\n",
    "    b = set(b)\n",
    "\n",
    "    if a & b:\n",
    "        return 1\n",
    "    else:\n",
    "        return 0\n",
    "    \n",
    "np.mean([foo(spread=2) for _ in range(1000)])"
   ]
  },
  {
   "cell_type": "code",
   "execution_count": 46,
   "metadata": {},
   "outputs": [],
   "source": [
    "import numpy as np\n",
    "import matplotlib.pyplot as plt\n",
    "\n",
    "\n",
    "def make_prob():\n",
    "    N = 400\n",
    "\n",
    "    a = sorted(np.random.randint(N//3, size=N))\n",
    "    v = np.random.randint(N) - N//3\n",
    "\n",
    "    #a[0], a[-1], len(a), v\n",
    "    \n",
    "    return a,v\n",
    "\n",
    "def check_sol(a,v,i,j):\n",
    "    assert 0 <= i <= j <= len(a)\n",
    "    \n",
    "    assert all(e < v      for e in a[:i])\n",
    "    assert all(    v <= e for e in a[j:])"
   ]
  },
  {
   "cell_type": "code",
   "execution_count": 49,
   "metadata": {},
   "outputs": [],
   "source": [
    "def foo(N=100):\n",
    "    for _ in range(N):\n",
    "        a, v = make_prob()\n",
    "        i = search(a, v)\n",
    "        #i,j = prework(a,v)\n",
    "        check_sol(a,v,i,i)\n",
    "        yield 0"
   ]
  },
  {
   "cell_type": "code",
   "execution_count": 50,
   "metadata": {},
   "outputs": [
    {
     "data": {
      "text/plain": [
       "0.0"
      ]
     },
     "execution_count": 50,
     "metadata": {},
     "output_type": "execute_result"
    }
   ],
   "source": [
    "np.mean(list(foo(10000)))"
   ]
  },
  {
   "cell_type": "code",
   "execution_count": 25,
   "metadata": {},
   "outputs": [],
   "source": [
    "a, v = make_prob()\n",
    "i = search(a, v)"
   ]
  },
  {
   "cell_type": "code",
   "execution_count": 26,
   "metadata": {},
   "outputs": [
    {
     "data": {
      "text/plain": [
       "400"
      ]
     },
     "execution_count": 26,
     "metadata": {},
     "output_type": "execute_result"
    }
   ],
   "source": [
    "i"
   ]
  },
  {
   "cell_type": "code",
   "execution_count": 27,
   "metadata": {},
   "outputs": [],
   "source": [
    "check_sol(a,v,i-1,i+1)"
   ]
  },
  {
   "cell_type": "code",
   "execution_count": 344,
   "metadata": {},
   "outputs": [
    {
     "data": {
      "text/plain": [
       "{172,\n",
       " 175,\n",
       " 177,\n",
       " 178,\n",
       " 179,\n",
       " 181,\n",
       " 182,\n",
       " 183,\n",
       " 186,\n",
       " 187,\n",
       " 189,\n",
       " 192,\n",
       " 194,\n",
       " 195,\n",
       " 197,\n",
       " 198,\n",
       " 199,\n",
       " 201}"
      ]
     },
     "execution_count": 344,
     "metadata": {},
     "output_type": "execute_result"
    }
   ],
   "source": [
    "a = rand_set()\n",
    "b = rand_set()\n",
    "\n",
    "set(a) & set(b)"
   ]
  },
  {
   "cell_type": "code",
   "execution_count": null,
   "metadata": {},
   "outputs": [],
   "source": [
    "search(a, v)"
   ]
  },
  {
   "cell_type": "code",
   "execution_count": 346,
   "metadata": {},
   "outputs": [
    {
     "data": {
      "text/plain": [
       "[158,\n",
       " 160,\n",
       " 161,\n",
       " 163,\n",
       " 164,\n",
       " 170,\n",
       " 171,\n",
       " 172,\n",
       " 173,\n",
       " 175,\n",
       " 177,\n",
       " 178,\n",
       " 179,\n",
       " 180,\n",
       " 181,\n",
       " 182,\n",
       " 183,\n",
       " 184,\n",
       " 186,\n",
       " 187,\n",
       " 189,\n",
       " 191,\n",
       " 192,\n",
       " 193,\n",
       " 194,\n",
       " 195,\n",
       " 197,\n",
       " 198,\n",
       " 199,\n",
       " 201,\n",
       " 204,\n",
       " 205,\n",
       " 206,\n",
       " 207,\n",
       " 208,\n",
       " 209,\n",
       " 211,\n",
       " 214,\n",
       " 215,\n",
       " 218,\n",
       " 220,\n",
       " 222,\n",
       " 224,\n",
       " 225,\n",
       " 226,\n",
       " 227,\n",
       " 229,\n",
       " 230,\n",
       " 232,\n",
       " 233,\n",
       " 234,\n",
       " 236,\n",
       " 239,\n",
       " 240,\n",
       " 242,\n",
       " 243,\n",
       " 246]"
      ]
     },
     "execution_count": 346,
     "metadata": {},
     "output_type": "execute_result"
    }
   ],
   "source": [
    "def foo(a,b):\n",
    "    "
   ]
  },
  {
   "cell_type": "code",
   "execution_count": null,
   "metadata": {},
   "outputs": [],
   "source": []
  }
 ],
 "metadata": {
  "kernelspec": {
   "display_name": "Python 3",
   "language": "python",
   "name": "python3"
  },
  "language_info": {
   "codemirror_mode": {
    "name": "ipython",
    "version": 3
   },
   "file_extension": ".py",
   "mimetype": "text/x-python",
   "name": "python",
   "nbconvert_exporter": "python",
   "pygments_lexer": "ipython3",
   "version": "3.8.5"
  }
 },
 "nbformat": 4,
 "nbformat_minor": 4
}
