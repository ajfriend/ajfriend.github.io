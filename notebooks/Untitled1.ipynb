{
 "cells": [
  {
   "cell_type": "code",
   "execution_count": 1,
   "id": "ceba6d74-d9f9-4214-a89f-c82d24708ce0",
   "metadata": {},
   "outputs": [],
   "source": [
    "import numpy as np\n",
    "import matplotlib.pyplot as plt\n",
    "import cvxpy as cvx\n",
    "\n",
    "def theta(i):\n",
    "    return np.pi/(2**(i + 1))"
   ]
  },
  {
   "cell_type": "code",
   "execution_count": 2,
   "id": "4210189c-d1a5-4ec9-a227-0810d5eb3308",
   "metadata": {},
   "outputs": [],
   "source": [
    "x = np.linspace(-2, 2, 1000)\n",
    "y = np.exp(x)\n",
    "\n",
    "eps = .5\n",
    "a = [0, eps, 2*eps]\n",
    "b = list(np.exp(a))"
   ]
  },
  {
   "cell_type": "code",
   "execution_count": 3,
   "id": "167dca6a-3bab-49e2-a9bf-0a5d152b41d2",
   "metadata": {},
   "outputs": [
    {
     "data": {
      "text/plain": [
       "[<matplotlib.lines.Line2D at 0x121124c90>]"
      ]
     },
     "execution_count": 3,
     "metadata": {},
     "output_type": "execute_result"
    },
    {
     "data": {
      "image/png": "[encoded data removed]",
      "text/plain": [
       "<Figure size 360x360 with 1 Axes>"
      ]
     },
     "metadata": {
      "needs_background": "light"
     },
     "output_type": "display_data"
    }
   ],
   "source": [
    "fig, ax = plt.subplots(figsize=(5,5))\n",
    "\n",
    "ax.plot(x,y, alpha=.2)\n",
    "ax.axhline(0, color='k', alpha=.3)\n",
    "ax.axvline(0, color='k', alpha=.3)\n",
    "ax.grid(alpha=.2)\n",
    "#ax.set_aspect(1)\n",
    "\n",
    "ax.plot(a,b, '--o', color='g')"
   ]
  },
  {
   "cell_type": "code",
   "execution_count": 4,
   "id": "d338fa33-1f2d-482e-bdff-e3fe50890d54",
   "metadata": {},
   "outputs": [],
   "source": [
    "def foo(a, b):\n",
    "    a = a - 2*eps\n",
    "    b = b*np.exp(-2*eps)"
   ]
  },
  {
   "cell_type": "code",
   "execution_count": 5,
   "id": "be1b93b7-c34c-47cc-baf9-749f430a5201",
   "metadata": {},
   "outputs": [
    {
     "ename": "NameError",
     "evalue": "name 'k' is not defined",
     "output_type": "error",
     "traceback": [
      "\u001b[0;31m---------------------------------------------------------------------------\u001b[0m",
      "\u001b[0;31mNameError\u001b[0m                                 Traceback (most recent call last)",
      "\u001b[0;32m/var/folders/p9/gc1qcwtx6wg5_22cf88gcqlh0000gn/T/ipykernel_5764/849476688.py\u001b[0m in \u001b[0;36m<module>\u001b[0;34m\u001b[0m\n\u001b[0;32m----> 1\u001b[0;31m \u001b[0mx\u001b[0m\u001b[0;34m[\u001b[0m\u001b[0mk\u001b[0m\u001b[0;34m+\u001b[0m\u001b[0;36m1\u001b[0m\u001b[0;34m]\u001b[0m \u001b[0;34m>=\u001b[0m \u001b[0mabs\u001b[0m\u001b[0;34m(\u001b[0m\u001b[0mx\u001b[0m\u001b[0;34m[\u001b[0m\u001b[0mk\u001b[0m\u001b[0;34m]\u001b[0m \u001b[0;34m-\u001b[0m \u001b[0meps\u001b[0m\u001b[0;34m)\u001b[0m\u001b[0;34m\u001b[0m\u001b[0;34m\u001b[0m\u001b[0m\n\u001b[0m\u001b[1;32m      2\u001b[0m \u001b[0my\u001b[0m\u001b[0;34m[\u001b[0m\u001b[0mk\u001b[0m\u001b[0;34m+\u001b[0m\u001b[0;36m1\u001b[0m\u001b[0;34m]\u001b[0m \u001b[0;34m==\u001b[0m \u001b[0my\u001b[0m\u001b[0;34m[\u001b[0m\u001b[0mk\u001b[0m\u001b[0;34m]\u001b[0m\u001b[0;34m/\u001b[0m\u001b[0mexp\u001b[0m\u001b[0;34m(\u001b[0m\u001b[0meps\u001b[0m\u001b[0;34m)\u001b[0m \u001b[0;31m# should be able to reason about the slope here\u001b[0m\u001b[0;34m\u001b[0m\u001b[0;34m\u001b[0m\u001b[0m\n",
      "\u001b[0;31mNameError\u001b[0m: name 'k' is not defined"
     ]
    }
   ],
   "source": [
    "x[k+1] >= abs(x[k] - eps)\n",
    "y[k+1] == y[k]/exp(eps) # should be able to reason about the slope here"
   ]
  },
  {
   "cell_type": "code",
   "execution_count": null,
   "id": "1e22611e-f787-4c16-8f53-53f58a52253e",
   "metadata": {},
   "outputs": [],
   "source": []
  }
 ],
 "metadata": {
  "kernelspec": {
   "display_name": "Python 3 (ipykernel)",
   "language": "python",
   "name": "python3"
  },
  "language_info": {
   "codemirror_mode": {
    "name": "ipython",
    "version": 3
   },
   "file_extension": ".py",
   "mimetype": "text/x-python",
   "name": "python",
   "nbconvert_exporter": "python",
   "pygments_lexer": "ipython3",
   "version": "3.7.12"
  }
 },
 "nbformat": 4,
 "nbformat_minor": 5
}
