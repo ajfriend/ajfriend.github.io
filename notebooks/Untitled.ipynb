{
 "cells": [
  {
   "cell_type": "markdown",
   "id": "bc9567a0-8a47-4ca0-9f30-2dea42eb0b71",
   "metadata": {},
   "source": [
    "We want to represent the circle\n",
    "\n",
    "$$\n",
    "C = \\lbrace (x,y) \\mid x^2 + y^2 \\leq 1 \\rbrace.\n",
    "$$\n",
    "\n",
    "Let\n",
    "\n",
    "$$\n",
    "\\theta_i = \\frac{\\pi}{2^{i+1}}.\n",
    "$$\n",
    "\n",
    "We can do an approximation whose accuracy increases with each $N \\geq 1$ in the form of:\n",
    "\n",
    "$$\n",
    "\\begin{align*}\n",
    "\\alpha_0 \\geq |x| \\\\\n",
    "\\beta_0  \\geq |y| \\\\\n",
    "\\alpha_N \\leq 1 \\\\\n",
    "\\beta_N \\leq \\tan(\\theta_i) \\alpha_N\\\\\n",
    "\\end{align*}\n",
    "$$\n",
    "\n",
    "(interesting! you would have assumed the things above would link to the things below, but they don't! what's the plot look like if you just do the things above?\n",
    "oh duh, there's no relation because they're different variables.)\n",
    "\n",
    "\n",
    "and for $i = 1,\\ldots,N$:\n",
    "\n",
    "\n",
    "\n",
    "$$\n",
    "\\begin{align*}\n",
    "\\alpha_{i}    =   \\cos(\\theta_i) \\alpha_{i-1} + \\sin(\\theta_i) \\beta_{i-1}  \\\\\n",
    " \\beta_{i} \\geq |-\\sin(\\theta_i) \\alpha_{i-1} + \\cos(\\theta_i) \\beta_{i-1}| \\\\\n",
    "\\end{align*}\n",
    "$$\n",
    "\n",
    "# notes\n",
    "\n",
    "- do the rectangle tower example. that should be instructive\n",
    "- everything has to be self-similar!\n",
    "- are there other functions that are easy to represent in this self-similar way? like exp?"
   ]
  },
  {
   "cell_type": "code",
   "execution_count": 1,
   "id": "ffb9c391-07f3-4c65-a31e-afad4be37df5",
   "metadata": {},
   "outputs": [],
   "source": [
    "import numpy as np\n",
    "import matplotlib.pyplot as plt\n",
    "import cvxpy as cvx\n",
    "\n",
    "def theta(i):\n",
    "    return np.pi/(2**(i + 1))"
   ]
  },
  {
   "cell_type": "code",
   "execution_count": 2,
   "id": "884998c5-d603-41ea-8b33-724777663944",
   "metadata": {},
   "outputs": [],
   "source": [
    "N = 2"
   ]
  },
  {
   "cell_type": "code",
   "execution_count": 73,
   "id": "2ad0a671-5215-41d3-b672-cbe27a27e7fa",
   "metadata": {},
   "outputs": [],
   "source": [
    "gamma = 1\n",
    "\n",
    "def foo(N=2):\n",
    "\n",
    "    x = cvx.Variable()\n",
    "    y = cvx.Variable()\n",
    "\n",
    "    a = cvx.Variable(N+1)\n",
    "    b = cvx.Variable(N+1)\n",
    "    \n",
    "    cst = [\n",
    "        a[0] >= cvx.abs(x),\n",
    "        b[0] >= cvx.abs(y),\n",
    "        a[N] <= 1,\n",
    "        b[N] <= np.tan(theta(N))*a[N]\n",
    "\n",
    "    ]\n",
    "\n",
    "    for i in range(1,N+1):\n",
    "        t = theta(i)\n",
    "        \n",
    "        # g = gamma*((i+2)/N)\n",
    "        g = .1\n",
    "\n",
    "        cst += [\n",
    "            a[i] ==        (np.cos(t)* (a[i-1] + g) + np.sin(t)*b[i-1]),\n",
    "            b[i] >= cvx.abs( -np.sin(t)*( a[i-1] + g) + np.cos(t)*b[i-1] ),\n",
    "        ]\n",
    "        \n",
    "    obj = np.random.randn()*x + np.random.randn()*y\n",
    "    obj = cvx.Maximize(obj)\n",
    "    prob = cvx.Problem(obj, cst)\n",
    "    prob.solve()\n",
    "    # print(prob.status)\n",
    "    \n",
    "    return float(x.value), float(y.value)"
   ]
  },
  {
   "cell_type": "code",
   "execution_count": 74,
   "id": "ad161e8c-df12-46f0-be8d-c6773f2d95d1",
   "metadata": {},
   "outputs": [],
   "source": [
    "xys = [foo(6) for _ in range(100)]\n",
    "\n",
    "x, y = zip(*xys)"
   ]
  },
  {
   "cell_type": "code",
   "execution_count": 77,
   "id": "41a3ad5b-e4ea-4cd2-bff4-7e6da851dbce",
   "metadata": {},
   "outputs": [
    {
     "data": {
      "image/png": "[encoded data removed]",
      "text/plain": [
       "<Figure size 360x360 with 1 Axes>"
      ]
     },
     "metadata": {
      "needs_background": "light"
     },
     "output_type": "display_data"
    }
   ],
   "source": [
    "fig, ax = plt.subplots(figsize=(5,5))\n",
    "\n",
    "ax.scatter(x,y)\n",
    "ax.grid(alpha=.2)\n",
    "ax.set_aspect(1)"
   ]
  },
  {
   "cell_type": "code",
   "execution_count": null,
   "id": "d69f2861-4e0b-4e6e-8b78-aa0e82e6b928",
   "metadata": {},
   "outputs": [],
   "source": []
  },
  {
   "cell_type": "code",
   "execution_count": null,
   "id": "53d6a051-275b-45a6-ac4e-9a6fd6a2dddd",
   "metadata": {},
   "outputs": [],
   "source": []
  }
 ],
 "metadata": {
  "kernelspec": {
   "display_name": "Python 3 (ipykernel)",
   "language": "python",
   "name": "python3"
  },
  "language_info": {
   "codemirror_mode": {
    "name": "ipython",
    "version": 3
   },
   "file_extension": ".py",
   "mimetype": "text/x-python",
   "name": "python",
   "nbconvert_exporter": "python",
   "pygments_lexer": "ipython3",
   "version": "3.7.12"
  }
 },
 "nbformat": 4,
 "nbformat_minor": 5
}
