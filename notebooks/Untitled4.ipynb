{
 "cells": [
  {
   "cell_type": "code",
   "execution_count": 1,
   "id": "bbb9864d-1c80-46c4-acd5-d08ae2ca171f",
   "metadata": {},
   "outputs": [],
   "source": [
    "import cvxpy as cvx\n",
    "import numpy as np"
   ]
  },
  {
   "cell_type": "code",
   "execution_count": 47,
   "id": "8ebd4ba8-3197-4a79-a8fa-ae6fdab539a6",
   "metadata": {},
   "outputs": [],
   "source": [
    "x = cvx.Variable(2)\n",
    "y = cvx.Variable(2)"
   ]
  },
  {
   "cell_type": "code",
   "execution_count": 48,
   "id": "6956c139-8ded-4ed6-9213-0306b3732dd8",
   "metadata": {},
   "outputs": [],
   "source": [
    "eps = 1"
   ]
  },
  {
   "cell_type": "code",
   "execution_count": 52,
   "id": "8173dd89-25b9-443b-b870-05e20c3128b2",
   "metadata": {},
   "outputs": [],
   "source": [
    "cst = [\n",
    "    -eps <= x[0],\n",
    "    x[0] <= 0,\n",
    "    y[0] >= ((1 - np.exp(-eps))/eps)*x[0] + 1,\n",
    "    x[1] <= 0,\n",
    "    x[0] <= -cvx.abs(x[1] + eps),\n",
    "    y[0] <= y[1]*np.exp(eps),\n",
    "    \n",
    "#     x[2] <= 0,\n",
    "#     x[1] <= -cvx.abs(x[2] + 2*eps),\n",
    "#     y[1] <= y[2]*np.exp(2*eps),\n",
    "    \n",
    "#     x[2] == 0,\n",
    "    x[1] == 0,\n",
    "]"
   ]
  },
  {
   "cell_type": "code",
   "execution_count": 53,
   "id": "5135a8ea-0c7d-4749-8a3e-0338acad83d2",
   "metadata": {},
   "outputs": [],
   "source": [
    "prob = cvx.Problem(cvx.Minimize(y[1]), cst)"
   ]
  },
  {
   "cell_type": "code",
   "execution_count": 54,
   "id": "b53d8c8c-7564-4937-aeaf-4343a849f200",
   "metadata": {},
   "outputs": [
    {
     "data": {
      "text/plain": [
       "0.13533528325946073"
      ]
     },
     "execution_count": 54,
     "metadata": {},
     "output_type": "execute_result"
    }
   ],
   "source": [
    "prob.solve()"
   ]
  },
  {
   "cell_type": "code",
   "execution_count": null,
   "id": "1280eb0f-3a1e-4b22-8b8c-6d1a5a037032",
   "metadata": {},
   "outputs": [],
   "source": []
  },
  {
   "cell_type": "code",
   "execution_count": 43,
   "id": "db825a7c-f698-46ee-af04-5976fe3b4fbd",
   "metadata": {},
   "outputs": [
    {
     "data": {
      "text/plain": [
       "0.01831563888873418"
      ]
     },
     "execution_count": 43,
     "metadata": {},
     "output_type": "execute_result"
    }
   ],
   "source": [
    "np.exp(-4)"
   ]
  },
  {
   "cell_type": "code",
   "execution_count": null,
   "id": "dda2484d-d67e-49c4-9a64-29a68de779ad",
   "metadata": {},
   "outputs": [],
   "source": []
  }
 ],
 "metadata": {
  "kernelspec": {
   "display_name": "Python 3 (ipykernel)",
   "language": "python",
   "name": "python3"
  },
  "language_info": {
   "codemirror_mode": {
    "name": "ipython",
    "version": 3
   },
   "file_extension": ".py",
   "mimetype": "text/x-python",
   "name": "python",
   "nbconvert_exporter": "python",
   "pygments_lexer": "ipython3",
   "version": "3.7.12"
  }
 },
 "nbformat": 4,
 "nbformat_minor": 5
}
