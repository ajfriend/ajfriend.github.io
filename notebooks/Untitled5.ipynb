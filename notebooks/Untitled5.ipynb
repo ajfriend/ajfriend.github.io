{
 "cells": [
  {
   "cell_type": "code",
   "execution_count": 1,
   "id": "876e5de1-b1dc-447b-9e3a-fa021316e3b9",
   "metadata": {},
   "outputs": [],
   "source": [
    "import numpy as np\n",
    "import matplotlib.pyplot as plt"
   ]
  },
  {
   "cell_type": "code",
   "execution_count": 2,
   "id": "077cfa3d-0d35-4d6b-a034-2d64ba0c4754",
   "metadata": {},
   "outputs": [],
   "source": [
    "x = np.linspace(-1, 1, 1000)"
   ]
  },
  {
   "cell_type": "code",
   "execution_count": 3,
   "id": "ad3dc6c0-9f70-481b-ba83-b3fc4ca73a44",
   "metadata": {},
   "outputs": [],
   "source": [
    "# np.exp(x) + np.exp(-x)"
   ]
  },
  {
   "cell_type": "code",
   "execution_count": 4,
   "id": "f7753ed2-5f92-4350-8633-fd59371ad23f",
   "metadata": {},
   "outputs": [],
   "source": [
    "# y = np.exp(x) + np.exp(-x)\n",
    "y = np.exp(np.abs(x))\n",
    "# y = np.log(x)**2"
   ]
  },
  {
   "cell_type": "code",
   "execution_count": 5,
   "id": "87df787d-b2c9-4b1a-ad72-c26c750552dd",
   "metadata": {},
   "outputs": [
    {
     "data": {
      "text/plain": [
       "[<matplotlib.lines.Line2D at 0x1190e3f50>]"
      ]
     },
     "execution_count": 5,
     "metadata": {},
     "output_type": "execute_result"
    },
    {
     "data": {
      "image/png": "[encoded data removed]",
      "text/plain": [
       "<Figure size 432x288 with 1 Axes>"
      ]
     },
     "metadata": {
      "needs_background": "light"
     },
     "output_type": "display_data"
    }
   ],
   "source": [
    "plt.plot(x,y)"
   ]
  },
  {
   "cell_type": "code",
   "execution_count": 6,
   "id": "822401b7-f714-4b38-9e0b-fc2286bc8e77",
   "metadata": {},
   "outputs": [],
   "source": [
    "# np.exp(x) + np.exp(-x)"
   ]
  },
  {
   "cell_type": "code",
   "execution_count": null,
   "id": "fa36cb88-6a4e-42ae-8ceb-ca741a98f59f",
   "metadata": {},
   "outputs": [],
   "source": [
    "x = x - D\n",
    "x = D - x\n",
    "\n",
    "y >= np.exp(x - D)\n",
    "y >= np.exp(-x + D)"
   ]
  },
  {
   "cell_type": "code",
   "execution_count": null,
   "id": "aa8cf555-dd8a-4ab2-89f7-e4345c854cbf",
   "metadata": {},
   "outputs": [],
   "source": []
  },
  {
   "cell_type": "code",
   "execution_count": null,
   "id": "4c66e249-cc4d-455f-9f0c-ec388d460469",
   "metadata": {},
   "outputs": [],
   "source": [
    "y >= np.exp(-D)*np.exp(x)\n",
    "y >= np.exp(D)*np.exp(-x)"
   ]
  },
  {
   "cell_type": "code",
   "execution_count": null,
   "id": "77426a5d-0f9f-445b-9f35-74ee874e3f48",
   "metadata": {},
   "outputs": [],
   "source": [
    "y >= 1/x"
   ]
  }
 ],
 "metadata": {
  "kernelspec": {
   "display_name": "Python 3 (ipykernel)",
   "language": "python",
   "name": "python3"
  },
  "language_info": {
   "codemirror_mode": {
    "name": "ipython",
    "version": 3
   },
   "file_extension": ".py",
   "mimetype": "text/x-python",
   "name": "python",
   "nbconvert_exporter": "python",
   "pygments_lexer": "ipython3",
   "version": "3.7.12"
  }
 },
 "nbformat": 4,
 "nbformat_minor": 5
}
