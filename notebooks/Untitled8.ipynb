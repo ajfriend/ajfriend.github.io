{
 "cells": [
  {
   "cell_type": "code",
   "execution_count": 2,
   "id": "194ef0ba-15cd-4b2e-aa34-5dc888508484",
   "metadata": {},
   "outputs": [],
   "source": [
    "import numpy as np\n",
    "import matplotlib.pyplot as plt\n",
    "import cvxpy as cvx\n",
    "\n",
    "\n",
    "def form_pwl_quad(N):\n",
    "    \n",
    "    eps = 2**(-N)\n",
    "    \n",
    "    x = cvx.Variable(N+1)\n",
    "    y = cvx.Variable(N+1)\n",
    "\n",
    "    cst = [\n",
    "        0 <= x[0],\n",
    "        x[0] <= eps,\n",
    "        y[0] >= x[0]*eps,\n",
    "    ]\n",
    "    \n",
    "    for i in range(N):\n",
    "        delta = eps*(2**i)\n",
    "        \n",
    "        cst += [\n",
    "            x[i] >= cvx.abs(x[i+1] - delta),\n",
    "            y[i] <= y[i+1] - 2*delta*x[i+1] + delta**2,\n",
    "        ]        \n",
    "\n",
    "    return cst, x[-1], y[-1]"
   ]
  },
  {
   "cell_type": "code",
   "execution_count": 2,
   "id": "b3389adf-1176-4479-81ef-957847098de1",
   "metadata": {},
   "outputs": [],
   "source": [
    "# def foo(xys, delta):\n",
    "#     for x0,y0 in xys:\n",
    "#         for s in [-1, +1]:\n",
    "#             x1 = s*x0 + delta\n",
    "#             y1 = y0 + 2*delta*x1 - delta**2\n",
    "            \n",
    "#             yield (x1, y1)   \n",
    "\n",
    "# epsilon = .1\n",
    "\n",
    "# xys = [(0, 0), (epsilon, epsilon**2)]\n",
    "\n",
    "# for i in range(3):\n",
    "#     xys = foo(xys, epsilon)\n",
    "#     epsilon *= 2\n",
    "    \n",
    "    \n",
    "# x, y = zip(*sorted(xys))\n",
    "# plt.plot(x,y, '-o')\n",
    "\n",
    "# x = np.linspace(0, max(x))\n",
    "# plt.plot(x,x**2, alpha=.3)"
   ]
  },
  {
   "cell_type": "code",
   "execution_count": 3,
   "id": "c95088bf-2113-4ad6-a707-6f057c898548",
   "metadata": {},
   "outputs": [],
   "source": [
    "# def foo(xyzs, delta):\n",
    "#     for x0,y0,z0 in xyzs:\n",
    "#         for s in [-1, +1]:\n",
    "#             x1 = s*x0 + delta\n",
    "#             y1 = y0 + 2*delta*x1 - delta**2\n",
    "#             z1 = z0 + 3*delta*y1 - 2*delta*x1 + delta**3\n",
    "            \n",
    "#             yield (x1, y1, z1)   \n",
    "\n",
    "# epsilon = .1\n",
    "\n",
    "# xyzs = [(0, 0, 0), (epsilon, epsilon**2, epsilon**3)]\n",
    "\n",
    "# for i in range(1):\n",
    "#     xyzs = foo(xyzs, epsilon)\n",
    "#     epsilon *= 2\n",
    "    \n",
    "# x, y, z = zip(*sorted(xyzs))\n",
    "# plt.plot(x,z, '-o')\n",
    "\n",
    "# x = np.linspace(0, max(x))\n",
    "# plt.plot(x,x**3, alpha=.3)"
   ]
  },
  {
   "cell_type": "code",
   "execution_count": 4,
   "id": "1566cd37-ac5a-46d9-b119-1e5b72bb6d53",
   "metadata": {},
   "outputs": [],
   "source": [
    "x = np.linspace(0, 1, 10)"
   ]
  },
  {
   "cell_type": "code",
   "execution_count": 29,
   "id": "563c8b67-8a55-4e93-8a74-2fa4a80d708a",
   "metadata": {},
   "outputs": [],
   "source": [
    "N = 13\n",
    "\n",
    "def make_approx(N):\n",
    "    cst, x, y = form_pwl_quad(N)\n",
    "\n",
    "    def foo(a):\n",
    "        prob = cvx.Problem(\n",
    "            cvx.Maximize(x),\n",
    "            cst + [y <= a]\n",
    "        )\n",
    "\n",
    "        prob.solve()\n",
    "\n",
    "        return x.value\n",
    "    \n",
    "    return foo"
   ]
  },
  {
   "cell_type": "code",
   "execution_count": 30,
   "id": "09f4630f-b3de-489f-a956-8a36b59adbb8",
   "metadata": {},
   "outputs": [],
   "source": [
    "foo = make_approx(4)"
   ]
  },
  {
   "cell_type": "code",
   "execution_count": 34,
   "id": "b8502e31-9900-4a35-b3c4-70a892796d04",
   "metadata": {},
   "outputs": [
    {
     "data": {
      "text/plain": [
       "0.4472135954999579"
      ]
     },
     "execution_count": 34,
     "metadata": {},
     "output_type": "execute_result"
    }
   ],
   "source": [
    "np.sqrt(.2)"
   ]
  },
  {
   "cell_type": "code",
   "execution_count": 33,
   "id": "ec7bd218-d8d2-40b4-9ac2-439dbea8701c",
   "metadata": {},
   "outputs": [
    {
     "data": {
      "text/plain": [
       "0.44666666668027066"
      ]
     },
     "execution_count": 33,
     "metadata": {},
     "output_type": "execute_result"
    }
   ],
   "source": [
    "foo(.2)"
   ]
  },
  {
   "cell_type": "markdown",
   "id": "2cda0fca-67d1-42a8-876a-25418d8625c9",
   "metadata": {},
   "source": [
    "Let $x = (x_0, \\ldots, x_N) \\in \\mathbf{R}^{N+1}$ and $y = (y_0, \\ldots, y_N) \\in \\mathbf{R}^{N+1}$.\n",
    "\n",
    "Let $\\epsilon = \\frac{1}{2^N}$ and $\\delta_i = 2^i \\epsilon$.\n",
    "Start with the constraints\n",
    "\n",
    "$$\n",
    "\\begin{align*}\n",
    "0 \\leq x_0 \\leq \\delta_0 \\\\\n",
    "\\delta_0 x_0 \\leq y_0 \\\\\n",
    "\\end{align*}\n",
    "$$\n",
    "\n",
    "Then, for $i = 0, \\ldots, N-1$, add the constraints\n",
    "\n",
    "$$\n",
    "\\begin{align*}\n",
    "x_i \\geq \\left| x_{i+1} - \\delta_i \\right|  \\\\\n",
    "y_i \\leq y_{i+1} - 2\\delta_i x_{i+1} - \\delta_i^2 \\\\\n",
    "\\end{align*}\n",
    "$$\n",
    "\n",
    "The PWL approx to $x^2 \\leq y$ is given by $(x_N, y_N)$ over the range $0 \\leq x_N \\leq \\delta_N = 1$.\n",
    "\n",
    "# Example with $N = 0$\n",
    "\n",
    "We have $\\epsilon = \\delta_0 = 1$, so our constraints are\n",
    "\n",
    "$$\n",
    "\\begin{align*}\n",
    "0 \\leq x_0 \\leq 1 \\\\\n",
    "x_0 \\leq y_0 \\\\\n",
    "\\end{align*}\n",
    "$$\n",
    "\n",
    "\n",
    "# Example with $N = 1$\n",
    "\n",
    "We have $\\epsilon = \\delta_0 = \\frac{1}{2}$, so our constraints are\n",
    "\n",
    "$$\n",
    "\\begin{align*}\n",
    "0 \\leq x_0 \\leq \\frac{1}{2} \\\\\n",
    "\\frac{1}{2} x_0 \\leq y_0 \\\\\n",
    "x_0 \\geq \\left| x_1 - \\frac{1}{2} \\right|  \\\\\n",
    "y_0 \\leq y_1 - x_1 - \\frac{1}{4} \\\\\n",
    "\\end{align*}\n",
    "$$\n",
    "\n",
    "and our PWL approx is given by $(x_1, y_1)$ over the range $0 \\leq x_1 \\leq \\delta_1 = 1$"
   ]
  },
  {
   "cell_type": "code",
   "execution_count": 42,
   "id": "93c4475b-f2e0-44f1-98b0-bd0b48eb925e",
   "metadata": {},
   "outputs": [
    {
     "data": {
      "image/png": "[encoded data removed]",
      "text/plain": [
       "<Figure size 720x720 with 1 Axes>"
      ]
     },
     "metadata": {
      "needs_background": "light"
     },
     "output_type": "display_data"
    }
   ],
   "source": [
    "x = np.linspace(0, 1, 100)\n",
    "y = [foo(a) for a in x]\n",
    "\n",
    "fig, ax = plt.subplots(figsize=(10,10))\n",
    "ax.plot(x,y)\n",
    "ax.set_aspect('equal')\n",
    "ax.grid()\n",
    "x = np.linspace(0,1,1000)\n",
    "ax.plot(x,x**2, alpha=.3)\n",
    "\n",
    "fig.savefig('test.png', dpi=200)"
   ]
  },
  {
   "cell_type": "code",
   "execution_count": null,
   "id": "6d481f25-6684-4358-9092-ecaecb944941",
   "metadata": {},
   "outputs": [],
   "source": [
    "\n",
    "\n",
    "x + alpha*x - alpha*x^2"
   ]
  },
  {
   "cell_type": "code",
   "execution_count": 35,
   "id": "3b6c2ddc-44bb-4e3d-a55b-7b23bfdcb260",
   "metadata": {},
   "outputs": [
    {
     "data": {
      "text/plain": [
       "[<matplotlib.lines.Line2D at 0x12b509cd0>]"
      ]
     },
     "execution_count": 35,
     "metadata": {},
     "output_type": "execute_result"
    },
    {
     "data": {
      "image/png": "[encoded data removed]",
      "text/plain": [
       "<Figure size 720x720 with 1 Axes>"
      ]
     },
     "metadata": {
      "needs_background": "light"
     },
     "output_type": "display_data"
    }
   ],
   "source": [
    "N = 3\n",
    "\n",
    "alpha = .5\n",
    "\n",
    "x = np.linspace(0,1,1000)\n",
    "# y = x + alpha*x*(1-x)\n",
    "# y = x-x**2\n",
    "y = x**2\n",
    "\n",
    "fig, ax = plt.subplots(figsize=(10,10))\n",
    "# ax.plot(y,x)\n",
    "ax.plot(x,y)\n",
    "ax.plot(x,x, alpha=.3)\n",
    "ax.set_aspect('equal')\n",
    "\n",
    "x = np.arange(0,1 + 2**(-N), 2**(-N))\n",
    "ax.vlines(x, 0, 1, alpha=.3)\n",
    "ax.hlines(x**2, 0, 1, alpha=.3)\n",
    "ax.plot(x, x**2, 'o')\n",
    "\n",
    "\n",
    "# ax.grid()"
   ]
  },
  {
   "cell_type": "code",
   "execution_count": null,
   "id": "cf179ae2-9768-4d70-a41f-6debf4893009",
   "metadata": {},
   "outputs": [],
   "source": []
  }
 ],
 "metadata": {
  "kernelspec": {
   "display_name": "Python 3 (ipykernel)",
   "language": "python",
   "name": "python3"
  },
  "language_info": {
   "codemirror_mode": {
    "name": "ipython",
    "version": 3
   },
   "file_extension": ".py",
   "mimetype": "text/x-python",
   "name": "python",
   "nbconvert_exporter": "python",
   "pygments_lexer": "ipython3",
   "version": "3.7.12"
  }
 },
 "nbformat": 4,
 "nbformat_minor": 5
}
