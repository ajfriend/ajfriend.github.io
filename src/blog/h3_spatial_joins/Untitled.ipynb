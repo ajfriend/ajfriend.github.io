{
 "cells": [
  {
   "cell_type": "markdown",
   "metadata": {},
   "source": [
    "# steps\n",
    "\n",
    "- h3 sort in normal (ascending order)\n",
    "- this puts hexes in order like `[child_0, child_1, child_2, ..., child_6, parent]`\n",
    "- then zip through list **backwards** to remove children and duplicates, zero these guys out\n",
    "- then we use a stack moving up the list **forwards** to find cells we can compact"
   ]
  },
  {
   "cell_type": "code",
   "execution_count": 1,
   "metadata": {},
   "outputs": [],
   "source": [
    "import numpy as np\n",
    "import h3"
   ]
  },
  {
   "cell_type": "code",
   "execution_count": 2,
   "metadata": {},
   "outputs": [],
   "source": [
    "h = h3.geo_to_h3(0,0,5)"
   ]
  },
  {
   "cell_type": "code",
   "execution_count": 3,
   "metadata": {},
   "outputs": [
    {
     "data": {
      "text/plain": [
       "'85754e67fffffff'"
      ]
     },
     "execution_count": 3,
     "metadata": {},
     "output_type": "execute_result"
    }
   ],
   "source": [
    "h"
   ]
  },
  {
   "cell_type": "code",
   "execution_count": 4,
   "metadata": {},
   "outputs": [
    {
     "data": {
      "text/plain": [
       "601042424243945471"
      ]
     },
     "execution_count": 4,
     "metadata": {},
     "output_type": "execute_result"
    }
   ],
   "source": [
    "h3.string_to_h3(h)"
   ]
  },
  {
   "cell_type": "code",
   "execution_count": 14,
   "metadata": {},
   "outputs": [],
   "source": [
    "def is_first_child(h):\n",
    "    if h3.h3_get_resolution(h) == 0:\n",
    "        # res zero cells go right through\n",
    "        return False\n",
    "    \n",
    "    p = h3.h3_to_parent(h)\n",
    "    children = h3.h3_to_children(p)\n",
    "    first_child = min(children)\n",
    "    \n",
    "    return h == first_child\n",
    "\n",
    "def rich_compare(a, b):\n",
    "    if a == b:\n",
    "        return 0\n",
    "    \n",
    "    res_a = h3.h3_get_resolution(a)\n",
    "    res_b = h3.h3_get_resolution(b)\n",
    "    \n",
    "    # need child < parent\n",
    "\n",
    "    # if b is parent of a\n",
    "    if res_a > res_b:\n",
    "        if h3.h3_to_parent(a, res_b) == b:\n",
    "            return -1\n",
    "\n",
    "    # if a is parent of b\n",
    "    if res_a < res_b:\n",
    "        if h3.h3_to_parent(b, res_a) == a:\n",
    "            return +1\n",
    "    \n",
    "    mask = 0x800f_ffff_ffff_ffff  # not sure why we have the 8 here..?\n",
    "#     mask = 0x800f_ffff_ffff_ffff\n",
    "    \n",
    "    a = h3.string_to_h3(a)\n",
    "    b = h3.string_to_h3(b)\n",
    "    if (a & mask) < (b & mask):\n",
    "        return -2\n",
    "    else:\n",
    "        return +2\n",
    "    \n",
    "def simple_compare(a, b): \n",
    "    a = h3.string_to_h3(a)\n",
    "    b = h3.string_to_h3(b)\n",
    "    mask = 0x800f_ffff_ffff_ffff\n",
    "\n",
    "    # return np.sign((a & mask) - (b & mask))  # also works\n",
    "    return (a & mask) - (b & mask)\n",
    "\n",
    "\n",
    "from functools import cmp_to_key\n",
    "def h3order(hexes):\n",
    "    hexes = sorted(hexes, key = cmp_to_key(simple_compare))\n",
    "\n",
    "    return hexes"
   ]
  },
  {
   "cell_type": "code",
   "execution_count": 18,
   "metadata": {},
   "outputs": [
    {
     "data": {
      "text/plain": [
       "True"
      ]
     },
     "execution_count": 18,
     "metadata": {},
     "output_type": "execute_result"
    }
   ],
   "source": [
    "# hexes =  list(h3.h3_to_children(a, 2)) + list(h3.h3_to_children(a, 1))\n",
    "\n",
    "b = list(h3.get_res0_indexes())[0]\n",
    "\n",
    "hexes =  [b] + list(h3.h3_to_children(b, 1)) + list(h3.h3_to_children(b, 2))\n",
    "\n",
    "sorted(hexes, key = cmp_to_key(simple_compare)) == sorted(hexes, key = cmp_to_key(rich_compare))"
   ]
  },
  {
   "cell_type": "code",
   "execution_count": 19,
   "metadata": {},
   "outputs": [],
   "source": [
    "# def filter_dupes_and_children(seq):\n",
    "#     \"\"\" Assume sequence in descending h3-order.\n",
    "#     \"\"\"\n",
    "#     prev = None\n",
    "#     prev_res = None\n",
    "    \n",
    "#     for e in seq:\n",
    "#         if prev is None:\n",
    "#             prev = e\n",
    "#             prev_res = h3.h3_get_resolution(e)\n",
    "#             yield e\n",
    "#         else:\n",
    "#             cur_res = h3.h3_get_resolution(e)\n",
    "            \n",
    "#             if cur_res >= prev_res and h3.h3_to_parent(e, prev_res):\n",
    "#                 # then e is child of prev\n",
    "#                 continue\n",
    "#             else:\n",
    "#                 prev = e\n",
    "#                 prev_res = cur_res\n",
    "#                 yield e\n",
    "                "
   ]
  },
  {
   "cell_type": "markdown",
   "metadata": {},
   "source": [
    "# h3 descending order\n",
    "\n",
    "When we put hexes in h3 order (descending) we get an order like\n",
    "\n",
    "[parent, child_6, child_5, child_4, ..., child_0]"
   ]
  },
  {
   "cell_type": "code",
   "execution_count": 107,
   "metadata": {},
   "outputs": [
    {
     "data": {
      "text/plain": [
       "['8065fffffffffff',\n",
       " '8165bffffffffff',\n",
       " '81657ffffffffff',\n",
       " '81653ffffffffff',\n",
       " '8164fffffffffff',\n",
       " '8164bffffffffff',\n",
       " '81647ffffffffff',\n",
       " '81643ffffffffff']"
      ]
     },
     "execution_count": 107,
     "metadata": {},
     "output_type": "execute_result"
    }
   ],
   "source": [
    "h3order_descending([a] + list(h3.h3_to_children(a, 1)))"
   ]
  },
  {
   "cell_type": "code",
   "execution_count": 102,
   "metadata": {},
   "outputs": [
    {
     "data": {
      "text/plain": [
       "['8065fffffffffff',\n",
       " '8165bffffffffff',\n",
       " '8265b7fffffffff',\n",
       " '8265affffffffff',\n",
       " '8265a7fffffffff',\n",
       " '82659ffffffffff',\n",
       " '826597fffffffff',\n",
       " '82658ffffffffff',\n",
       " '826587fffffffff',\n",
       " '81657ffffffffff',\n",
       " '826577fffffffff',\n",
       " '82656ffffffffff',\n",
       " '826567fffffffff',\n",
       " '82655ffffffffff',\n",
       " '826557fffffffff',\n",
       " '82654ffffffffff',\n",
       " '826547fffffffff',\n",
       " '81653ffffffffff',\n",
       " '826537fffffffff',\n",
       " '82652ffffffffff',\n",
       " '826527fffffffff',\n",
       " '82651ffffffffff',\n",
       " '826517fffffffff',\n",
       " '82650ffffffffff',\n",
       " '826507fffffffff',\n",
       " '8164fffffffffff',\n",
       " '8264f7fffffffff',\n",
       " '8264effffffffff',\n",
       " '8264e7fffffffff',\n",
       " '8264dffffffffff',\n",
       " '8264d7fffffffff',\n",
       " '8264cffffffffff',\n",
       " '8264c7fffffffff',\n",
       " '8164bffffffffff',\n",
       " '8264b7fffffffff',\n",
       " '8264affffffffff',\n",
       " '8264a7fffffffff',\n",
       " '82649ffffffffff',\n",
       " '826497fffffffff',\n",
       " '82648ffffffffff',\n",
       " '826487fffffffff',\n",
       " '81647ffffffffff',\n",
       " '826477fffffffff',\n",
       " '82646ffffffffff',\n",
       " '826467fffffffff',\n",
       " '82645ffffffffff',\n",
       " '826457fffffffff',\n",
       " '82644ffffffffff',\n",
       " '826447fffffffff',\n",
       " '81643ffffffffff',\n",
       " '826437fffffffff',\n",
       " '82642ffffffffff',\n",
       " '826427fffffffff',\n",
       " '82641ffffffffff',\n",
       " '826417fffffffff',\n",
       " '82640ffffffffff',\n",
       " '826407fffffffff']"
      ]
     },
     "execution_count": 102,
     "metadata": {},
     "output_type": "execute_result"
    }
   ],
   "source": [
    "out = sorted(hexes, key = cmp_to_key(rich_compare), reverse=True)\n",
    "#list(filter_dupes_and_children(out))\n",
    "out"
   ]
  },
  {
   "cell_type": "code",
   "execution_count": 79,
   "metadata": {},
   "outputs": [
    {
     "data": {
      "text/plain": [
       "-2"
      ]
     },
     "execution_count": 79,
     "metadata": {},
     "output_type": "execute_result"
    }
   ],
   "source": [
    "i = 0\n",
    "\n",
    "rich_compare(out[i], out[i+1])"
   ]
  },
  {
   "cell_type": "code",
   "execution_count": 80,
   "metadata": {},
   "outputs": [],
   "source": [
    "p = '8065fffffffffff'\n",
    "c = '81643ffffffffff'\n",
    "\n",
    "assert p == h3.h3_to_parent(c)"
   ]
  },
  {
   "cell_type": "code",
   "execution_count": 81,
   "metadata": {},
   "outputs": [],
   "source": [
    "children = sorted(h3.h3_to_children(p))\n",
    "\n",
    "for c in children:\n",
    "    assert simple_compare(c,p) < 0 # child less than parent"
   ]
  },
  {
   "cell_type": "code",
   "execution_count": 82,
   "metadata": {},
   "outputs": [
    {
     "data": {
      "text/plain": [
       "-1"
      ]
     },
     "execution_count": 82,
     "metadata": {},
     "output_type": "execute_result"
    }
   ],
   "source": [
    "simple_compare(c,p)"
   ]
  },
  {
   "cell_type": "code",
   "execution_count": 83,
   "metadata": {},
   "outputs": [
    {
     "data": {
      "text/plain": [
       "-1"
      ]
     },
     "execution_count": 83,
     "metadata": {},
     "output_type": "execute_result"
    }
   ],
   "source": [
    "rich_compare(c,p)"
   ]
  },
  {
   "cell_type": "code",
   "execution_count": null,
   "metadata": {},
   "outputs": [],
   "source": []
  }
 ],
 "metadata": {
  "kernelspec": {
   "display_name": "Python 3",
   "language": "python",
   "name": "python3"
  },
  "language_info": {
   "codemirror_mode": {
    "name": "ipython",
    "version": 3
   },
   "file_extension": ".py",
   "mimetype": "text/x-python",
   "name": "python",
   "nbconvert_exporter": "python",
   "pygments_lexer": "ipython3",
   "version": "3.8.5"
  }
 },
 "nbformat": 4,
 "nbformat_minor": 4
}
