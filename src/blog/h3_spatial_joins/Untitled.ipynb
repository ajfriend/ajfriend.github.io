{
 "cells": [
  {
   "cell_type": "markdown",
   "metadata": {},
   "source": [
    "# steps\n",
    "\n",
    "- h3 sort in normal (ascending order)\n",
    "- this puts hexes in order like `[child_0, child_1, child_2, ..., child_6, parent]`\n",
    "- then zip through list **backwards** to remove children and duplicates, zero these guys out\n",
    "- then we use a stack moving up the list **forwards** to find cells we can compact"
   ]
  },
  {
   "cell_type": "code",
   "execution_count": 1,
   "metadata": {},
   "outputs": [],
   "source": [
    "import numpy as np\n",
    "import h3"
   ]
  },
  {
   "cell_type": "code",
   "execution_count": 2,
   "metadata": {},
   "outputs": [],
   "source": [
    "h = h3.geo_to_h3(0,0,5)"
   ]
  },
  {
   "cell_type": "code",
   "execution_count": 3,
   "metadata": {},
   "outputs": [
    {
     "data": {
      "text/plain": [
       "'85754e67fffffff'"
      ]
     },
     "execution_count": 3,
     "metadata": {},
     "output_type": "execute_result"
    }
   ],
   "source": [
    "h"
   ]
  },
  {
   "cell_type": "code",
   "execution_count": 4,
   "metadata": {},
   "outputs": [
    {
     "data": {
      "text/plain": [
       "601042424243945471"
      ]
     },
     "execution_count": 4,
     "metadata": {},
     "output_type": "execute_result"
    }
   ],
   "source": [
    "h3.string_to_h3(h)"
   ]
  },
  {
   "cell_type": "code",
   "execution_count": 5,
   "metadata": {},
   "outputs": [],
   "source": [
    "def is_first_child(h):\n",
    "    if h3.h3_get_resolution(h) == 0:\n",
    "        # res zero cells go right through\n",
    "        return False\n",
    "    \n",
    "    p = h3.h3_to_parent(h)\n",
    "    children = h3.h3_to_children(p)\n",
    "    first_child = min(children)\n",
    "    \n",
    "    return h == first_child\n",
    "\n",
    "def rich_compare(a, b):\n",
    "    if a == b:\n",
    "        return 0\n",
    "    \n",
    "    res_a = h3.h3_get_resolution(a)\n",
    "    res_b = h3.h3_get_resolution(b)\n",
    "    \n",
    "    # need child < parent\n",
    "\n",
    "    # if b is parent of a\n",
    "    if res_a > res_b:\n",
    "        if h3.h3_to_parent(a, res_b) == b:\n",
    "            return -1\n",
    "\n",
    "    # if a is parent of b\n",
    "    if res_a < res_b:\n",
    "        if h3.h3_to_parent(b, res_a) == a:\n",
    "            return +1\n",
    "    \n",
    "    mask = 0x800f_ffff_ffff_ffff  # not sure why we have the 8 here..?\n",
    "#     mask = 0x800f_ffff_ffff_ffff\n",
    "    \n",
    "    a = h3.string_to_h3(a)\n",
    "    b = h3.string_to_h3(b)\n",
    "    if (a & mask) < (b & mask):\n",
    "        return -2\n",
    "    else:\n",
    "        return +2\n",
    "    \n",
    "def simple_compare(a, b): \n",
    "    a = h3.string_to_h3(a)\n",
    "    b = h3.string_to_h3(b)\n",
    "    mask = 0x800f_ffff_ffff_ffff\n",
    "\n",
    "    # return np.sign((a & mask) - (b & mask))  # also works\n",
    "    return (a & mask) - (b & mask)\n",
    "\n",
    "\n",
    "from functools import cmp_to_key\n",
    "def h3order(hexes):\n",
    "    hexes = sorted(hexes, key = cmp_to_key(simple_compare))\n",
    "\n",
    "    return hexes"
   ]
  },
  {
   "cell_type": "code",
   "execution_count": 6,
   "metadata": {},
   "outputs": [
    {
     "data": {
      "text/plain": [
       "True"
      ]
     },
     "execution_count": 6,
     "metadata": {},
     "output_type": "execute_result"
    }
   ],
   "source": [
    "# hexes =  list(h3.h3_to_children(a, 2)) + list(h3.h3_to_children(a, 1))\n",
    "\n",
    "b = list(h3.get_res0_indexes())[0]\n",
    "\n",
    "hexes =  [b] + list(h3.h3_to_children(b, 1)) + list(h3.h3_to_children(b, 2))\n",
    "\n",
    "sorted(hexes, key = cmp_to_key(simple_compare)) == sorted(hexes, key = cmp_to_key(rich_compare))"
   ]
  },
  {
   "cell_type": "code",
   "execution_count": 20,
   "metadata": {},
   "outputs": [],
   "source": []
  },
  {
   "cell_type": "code",
   "execution_count": 21,
   "metadata": {},
   "outputs": [
    {
     "data": {
      "text/plain": [
       "['85754e63fffffff',\n",
       " '85754e6bfffffff',\n",
       " '85754e6ffffffff',\n",
       " '85754e73fffffff',\n",
       " '85754e77fffffff',\n",
       " '85754e7bfffffff']"
      ]
     },
     "execution_count": 21,
     "metadata": {},
     "output_type": "execute_result"
    }
   ],
   "source": [
    "get_remaining_siblings(h)"
   ]
  },
  {
   "cell_type": "code",
   "execution_count": 23,
   "metadata": {},
   "outputs": [
    {
     "ename": "ModuleNotFoundError",
     "evalue": "No module named 'toolz'",
     "output_type": "error",
     "traceback": [
      "\u001b[0;31m---------------------------------------------------------------------------\u001b[0m",
      "\u001b[0;31mModuleNotFoundError\u001b[0m                       Traceback (most recent call last)",
      "\u001b[0;32m<ipython-input-23-a17632fc5b45>\u001b[0m in \u001b[0;36m<module>\u001b[0;34m\u001b[0m\n\u001b[0;32m----> 1\u001b[0;31m \u001b[0;32mimport\u001b[0m \u001b[0mtoolz\u001b[0m\u001b[0;34m\u001b[0m\u001b[0;34m\u001b[0m\u001b[0m\n\u001b[0m",
      "\u001b[0;31mModuleNotFoundError\u001b[0m: No module named 'toolz'"
     ]
    }
   ],
   "source": [
    "import toolz"
   ]
  },
  {
   "cell_type": "code",
   "execution_count": 57,
   "metadata": {},
   "outputs": [],
   "source": [
    "# def get_siblings(h):\n",
    "#     p = h3.h3_to_parent(h)\n",
    "#     siblings = {s: 0 for s in h3.h3_to_children(p)}\n",
    "#     siblings[h] = 1\n",
    "    \n",
    "#     return siblings\n",
    "\n",
    "def next_sibling(siblings):\n",
    "    p = list(siblings)[0]\n",
    "    \n",
    "    remaining_siblings = h3.h3_to_children(p) - set(siblings)\n",
    "    \n",
    "    if remaining_siblings:\n",
    "        return min(remaining_siblings)\n",
    "    else:\n",
    "        return None\n",
    "        "
   ]
  },
  {
   "cell_type": "code",
   "execution_count": 56,
   "metadata": {},
   "outputs": [
    {
     "data": {
      "text/plain": [
       "'86754e647ffffff'"
      ]
     },
     "execution_count": 56,
     "metadata": {},
     "output_type": "execute_result"
    }
   ],
   "source": [
    "next_sibling({h})"
   ]
  },
  {
   "cell_type": "code",
   "execution_count": 49,
   "metadata": {},
   "outputs": [
    {
     "data": {
      "text/plain": [
       "{'85754e63fffffff': 0,\n",
       " '85754e7bfffffff': 0,\n",
       " '85754e73fffffff': 0,\n",
       " '85754e77fffffff': 0,\n",
       " '85754e6bfffffff': 0,\n",
       " '85754e6ffffffff': 0,\n",
       " '85754e67fffffff': 1}"
      ]
     },
     "execution_count": 49,
     "metadata": {},
     "output_type": "execute_result"
    }
   ],
   "source": [
    "get_siblings(h)"
   ]
  },
  {
   "cell_type": "code",
   "execution_count": 51,
   "metadata": {},
   "outputs": [
    {
     "data": {
      "text/plain": [
       "'85754e63fffffff'"
      ]
     },
     "execution_count": 51,
     "metadata": {},
     "output_type": "execute_result"
    }
   ],
   "source": [
    "next_sibling(get_siblings(h))"
   ]
  },
  {
   "cell_type": "code",
   "execution_count": 22,
   "metadata": {},
   "outputs": [],
   "source": [
    "b = list(h3.get_res0_indexes())[0]\n",
    "hexes = h3.h3_to_children(b, 1)\n",
    "\n",
    "\n",
    "stack = []\n",
    "\n",
    "def step(stack, h):   \n",
    "    out = []\n",
    "    \n",
    "    if stack:\n",
    "        # if h is the next thing we're expecting\n",
    "        if h == stack[-1][0]:\n",
    "            stack[-1] = stack[-1][1:]\n",
    "        else:\n",
    "            # flush the stack\n",
    "            for e in stack:\n",
    "                out += e\n",
    "            stack[:] = []\n",
    "\n",
    "\n",
    "    if not stack:\n",
    "        if is_first_child(h):\n",
    "            stack.append(get_remaining_siblings(h))\n",
    "            return []\n",
    "        else:\n",
    "            return [h]\n",
    "    \n",
    "\n",
    "            \n",
    "            \n",
    "    # also need to check if the stack rolls up\n",
    "            \n",
    "            \n",
    "        \n",
    "    return hexes\n",
    "    "
   ]
  },
  {
   "cell_type": "code",
   "execution_count": 33,
   "metadata": {},
   "outputs": [],
   "source": [
    "stack = [1]\n",
    "a = stack\n",
    "\n",
    "stack[:] = []"
   ]
  },
  {
   "cell_type": "code",
   "execution_count": 34,
   "metadata": {},
   "outputs": [
    {
     "data": {
      "text/plain": [
       "[]"
      ]
     },
     "execution_count": 34,
     "metadata": {},
     "output_type": "execute_result"
    }
   ],
   "source": [
    "a"
   ]
  },
  {
   "cell_type": "code",
   "execution_count": 11,
   "metadata": {},
   "outputs": [
    {
     "data": {
      "text/plain": [
       "['81983ffffffffff',\n",
       " '81987ffffffffff',\n",
       " '8198bffffffffff',\n",
       " '8198fffffffffff',\n",
       " '81993ffffffffff',\n",
       " '81997ffffffffff',\n",
       " '8199bffffffffff']"
      ]
     },
     "execution_count": 11,
     "metadata": {},
     "output_type": "execute_result"
    }
   ],
   "source": [
    "compact(hexes)"
   ]
  },
  {
   "cell_type": "code",
   "execution_count": null,
   "metadata": {},
   "outputs": [],
   "source": []
  }
 ],
 "metadata": {
  "kernelspec": {
   "display_name": "Python 3",
   "language": "python",
   "name": "python3"
  },
  "language_info": {
   "codemirror_mode": {
    "name": "ipython",
    "version": 3
   },
   "file_extension": ".py",
   "mimetype": "text/x-python",
   "name": "python",
   "nbconvert_exporter": "python",
   "pygments_lexer": "ipython3",
   "version": "3.8.5"
  }
 },
 "nbformat": 4,
 "nbformat_minor": 4
}
