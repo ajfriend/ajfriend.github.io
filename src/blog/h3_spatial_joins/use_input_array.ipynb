{
 "cells": [
  {
   "cell_type": "code",
   "execution_count": 1,
   "metadata": {},
   "outputs": [],
   "source": [
    "import numpy as np\n",
    "import h3\n",
    "\n",
    "h = h3.geo_to_h3(0,0,5)"
   ]
  },
  {
   "cell_type": "code",
   "execution_count": 2,
   "metadata": {},
   "outputs": [
    {
     "data": {
      "text/plain": [
       "'85754e67fffffff'"
      ]
     },
     "execution_count": 2,
     "metadata": {},
     "output_type": "execute_result"
    }
   ],
   "source": [
    "h"
   ]
  },
  {
   "cell_type": "code",
   "execution_count": 3,
   "metadata": {},
   "outputs": [],
   "source": [
    "def get_siblings(h):\n",
    "    p = h3.h3_to_parent(h)\n",
    "    sibs = h3.h3_to_children(p)\n",
    "    sibs = sorted(sibs)\n",
    "    \n",
    "    return sibs\n",
    "\n",
    "def get_next_sibling(h):\n",
    "    \"\"\" Returns None if h is the last child\n",
    "    \"\"\"\n",
    "    sibs = get_siblings(h)\n",
    "    i = sibs.index(h) + 1\n",
    "    \n",
    "    if i >= len(sibs):\n",
    "        return None\n",
    "    else:\n",
    "        return sibs[i]\n",
    "    \n",
    "def get_prev_sibling(h):\n",
    "    \"\"\" Returns None if h is the first child\n",
    "    \"\"\"\n",
    "    sibs = get_siblings(h)\n",
    "    i = sibs.index(h) - 1\n",
    "    \n",
    "    if i < 0:\n",
    "        return None\n",
    "    else:\n",
    "        return sibs[i]\n",
    "    \n",
    "def is_a_first_child(h):\n",
    "    if h3.h3_get_resolution(h) == 0:\n",
    "        return False\n",
    "\n",
    "    if get_prev_sibling(h) is None:\n",
    "        return True\n",
    "    else:\n",
    "        return False\n",
    "    \n",
    "def is_first_descendent_of(p, h):\n",
    "    res_p = h3.h3_get_resolution(p)\n",
    "    res_h = h3.h3_get_resolution(h)\n",
    "    \n",
    "    if res_p <= res_h and h3.h3_to_parent(h, res_p):\n",
    "        return is_a_first_child(h)\n",
    "    else:\n",
    "        return False\n",
    "    \n",
    "def siblings_up_to(h):\n",
    "    sibs = get_siblings(h)\n",
    "    for sib in sibs:\n",
    "        yield sib\n",
    "        if sib == h:\n",
    "            break"
   ]
  },
  {
   "cell_type": "code",
   "execution_count": 4,
   "metadata": {},
   "outputs": [
    {
     "data": {
      "text/plain": [
       "['85754e63fffffff',\n",
       " '85754e67fffffff',\n",
       " '85754e6bfffffff',\n",
       " '85754e6ffffffff',\n",
       " '85754e73fffffff',\n",
       " '85754e77fffffff',\n",
       " '85754e7bfffffff']"
      ]
     },
     "execution_count": 4,
     "metadata": {},
     "output_type": "execute_result"
    }
   ],
   "source": [
    "get_siblings(h)"
   ]
  },
  {
   "cell_type": "code",
   "execution_count": 303,
   "metadata": {},
   "outputs": [],
   "source": [
    "h = h3.geo_to_h3(0,0,9)\n",
    "\n",
    "hexes = h3.k_ring(h, 10)\n",
    "\n",
    "inputs = sorted(hexes)"
   ]
  },
  {
   "cell_type": "code",
   "execution_count": 304,
   "metadata": {},
   "outputs": [
    {
     "data": {
      "text/plain": [
       "331"
      ]
     },
     "execution_count": 304,
     "metadata": {},
     "output_type": "execute_result"
    }
   ],
   "source": [
    "len(inputs)"
   ]
  },
  {
   "cell_type": "code",
   "execution_count": 302,
   "metadata": {},
   "outputs": [
    {
     "data": {
      "text/plain": [
       "79"
      ]
     },
     "execution_count": 302,
     "metadata": {},
     "output_type": "execute_result"
    }
   ],
   "source": [
    "len(h3.compact(hexes))"
   ]
  },
  {
   "cell_type": "code",
   "execution_count": 5,
   "metadata": {},
   "outputs": [
    {
     "ename": "NameError",
     "evalue": "name 'inputs' is not defined",
     "output_type": "error",
     "traceback": [
      "\u001b[0;31m---------------------------------------------------------------------------\u001b[0m",
      "\u001b[0;31mNameError\u001b[0m                                 Traceback (most recent call last)",
      "\u001b[0;32m<ipython-input-5-21e59ddeaa67>\u001b[0m in \u001b[0;36m<module>\u001b[0;34m\u001b[0m\n\u001b[1;32m     18\u001b[0m \u001b[0;34m\u001b[0m\u001b[0m\n\u001b[1;32m     19\u001b[0m     \u001b[0;32mif\u001b[0m \u001b[0mi\u001b[0m \u001b[0;34m==\u001b[0m \u001b[0mj\u001b[0m\u001b[0;34m:\u001b[0m  \u001b[0;31m# if stack is empty\u001b[0m\u001b[0;34m\u001b[0m\u001b[0;34m\u001b[0m\u001b[0m\n\u001b[0;32m---> 20\u001b[0;31m         \u001b[0;32mif\u001b[0m \u001b[0mk\u001b[0m \u001b[0;34m>=\u001b[0m \u001b[0mlen\u001b[0m\u001b[0;34m(\u001b[0m\u001b[0minputs\u001b[0m\u001b[0;34m)\u001b[0m\u001b[0;34m:\u001b[0m\u001b[0;34m\u001b[0m\u001b[0;34m\u001b[0m\u001b[0m\n\u001b[0m\u001b[1;32m     21\u001b[0m             \u001b[0;32mbreak\u001b[0m\u001b[0;34m\u001b[0m\u001b[0;34m\u001b[0m\u001b[0m\n\u001b[1;32m     22\u001b[0m \u001b[0;34m\u001b[0m\u001b[0m\n",
      "\u001b[0;31mNameError\u001b[0m: name 'inputs' is not defined"
     ]
    }
   ],
   "source": [
    "# b = list(h3.get_res0_indexes())[0]\n",
    "# hexes = h3.h3_to_children(b, 1)\n",
    "\n",
    "i,j,k = 0,0,0\n",
    "\n",
    "while True:\n",
    "  \n",
    "    # check for completed set...\n",
    "    if i < j:\n",
    "        h = inputs[j-1]\n",
    "        # completed children set\n",
    "        if get_next_sibling(h) is None:  # maybe need to worry about res 0 cells...\n",
    "            j -= 7 # need to work on pentagons\n",
    "            assert i <= j\n",
    "            inputs[j] = h3.h3_to_parent(h)\n",
    "            j += 1\n",
    "            continue # end so that we can run step again\n",
    "\n",
    "    if i == j:  # if stack is empty\n",
    "        if k >= len(inputs):\n",
    "            break\n",
    "            \n",
    "        h = inputs[k]\n",
    "        \n",
    "        if is_a_first_child(h):\n",
    "            inputs[j] = inputs[k]\n",
    "            j += 1\n",
    "            k += 1\n",
    "            continue\n",
    "        else:\n",
    "            # flush element and stack stays empty\n",
    "            inputs[j] = inputs[k]\n",
    "            i += 1\n",
    "            j += 1\n",
    "            k += 1\n",
    "            continue\n",
    "            \n",
    "    \n",
    "    if i < j: # stack not empty\n",
    "        if k >= len(inputs):\n",
    "            break\n",
    "        h = inputs[k]\n",
    "        k += 1\n",
    "        \n",
    "        # easy to check next sibling with subtraction: expect a 1, just shifted by resolution\n",
    "        next_wanted = get_next_sibling(inputs[j-1])\n",
    "        \n",
    "        if h == next_wanted:\n",
    "            # push h onto stack\n",
    "            inputs[j] = h\n",
    "            j += 1\n",
    "            continue\n",
    "        elif is_first_descendent_of(next_wanted, h):  ## we can combine these two!!!\n",
    "            inputs[j] = h\n",
    "            j += 1\n",
    "            continue\n",
    "        else: # flush the stack\n",
    "            i = j # make stack empty\n",
    "            k -= 1 # re run that element\n",
    "    "
   ]
  },
  {
   "cell_type": "code",
   "execution_count": 290,
   "metadata": {},
   "outputs": [
    {
     "data": {
      "text/plain": [
       "[]"
      ]
     },
     "execution_count": 290,
     "metadata": {},
     "output_type": "execute_result"
    }
   ],
   "source": [
    "inputs[:i]"
   ]
  },
  {
   "cell_type": "code",
   "execution_count": 291,
   "metadata": {},
   "outputs": [
    {
     "data": {
      "text/plain": [
       "['85754e67fffffff']"
      ]
     },
     "execution_count": 291,
     "metadata": {},
     "output_type": "execute_result"
    }
   ],
   "source": [
    "inputs[i:j]"
   ]
  },
  {
   "cell_type": "code",
   "execution_count": 292,
   "metadata": {},
   "outputs": [
    {
     "data": {
      "text/plain": [
       "[]"
      ]
     },
     "execution_count": 292,
     "metadata": {},
     "output_type": "execute_result"
    }
   ],
   "source": [
    "inputs[k:]"
   ]
  },
  {
   "cell_type": "code",
   "execution_count": 287,
   "metadata": {},
   "outputs": [
    {
     "data": {
      "text/plain": [
       "(0, 1, 2401)"
      ]
     },
     "execution_count": 287,
     "metadata": {},
     "output_type": "execute_result"
    }
   ],
   "source": [
    "i,j,k"
   ]
  },
  {
   "cell_type": "code",
   "execution_count": 190,
   "metadata": {},
   "outputs": [
    {
     "data": {
      "text/plain": [
       "['86754e647ffffff',\n",
       " '86754e64fffffff',\n",
       " '86754e657ffffff',\n",
       " '86754e65fffffff',\n",
       " '86754e667ffffff',\n",
       " '86754e66fffffff',\n",
       " '86754e677ffffff']"
      ]
     },
     "execution_count": 190,
     "metadata": {},
     "output_type": "execute_result"
    }
   ],
   "source": [
    "h = h3.geo_to_h3(0,0,5)\n",
    "\n",
    "sorted(h3.h3_to_children(h, 6))"
   ]
  },
  {
   "cell_type": "code",
   "execution_count": null,
   "metadata": {},
   "outputs": [],
   "source": []
  }
 ],
 "metadata": {
  "kernelspec": {
   "display_name": "Python 3",
   "language": "python",
   "name": "python3"
  },
  "language_info": {
   "codemirror_mode": {
    "name": "ipython",
    "version": 3
   },
   "file_extension": ".py",
   "mimetype": "text/x-python",
   "name": "python",
   "nbconvert_exporter": "python",
   "pygments_lexer": "ipython3",
   "version": "3.8.5"
  }
 },
 "nbformat": 4,
 "nbformat_minor": 4
}
