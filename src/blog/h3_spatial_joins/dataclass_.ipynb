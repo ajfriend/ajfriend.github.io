{
 "cells": [
  {
   "cell_type": "code",
   "execution_count": 1,
   "metadata": {},
   "outputs": [],
   "source": [
    "import numpy as np\n",
    "import h3\n",
    "from dataclasses import dataclass\n",
    "\n",
    "@dataclass\n",
    "class State:\n",
    "    i: int\n",
    "    j: int\n",
    "    k: int\n",
    "    arr: list\n",
    "        \n",
    "    def copy(self):\n",
    "        return State(self.i, self.j, self.k, list(self.arr))\n"
   ]
  },
  {
   "cell_type": "code",
   "execution_count": 2,
   "metadata": {},
   "outputs": [
    {
     "data": {
      "text/plain": [
       "State(i=0, j=0, k=0, arr=[])"
      ]
     },
     "execution_count": 2,
     "metadata": {},
     "output_type": "execute_result"
    }
   ],
   "source": [
    "State(0,0,0,[]).copy()"
   ]
  },
  {
   "cell_type": "code",
   "execution_count": 3,
   "metadata": {},
   "outputs": [],
   "source": [
    "def get_siblings(h):\n",
    "    p = h3.h3_to_parent(h)\n",
    "    sibs = h3.h3_to_children(p)\n",
    "    sibs = sorted(sibs)\n",
    "    \n",
    "    return sibs\n",
    "\n",
    "def get_next_sibling(h):\n",
    "    \"\"\" Returns None if h is the last child\n",
    "    \"\"\"\n",
    "    sibs = get_siblings(h)\n",
    "    i = sibs.index(h) + 1\n",
    "    \n",
    "    if i >= len(sibs):\n",
    "        return None\n",
    "    else:\n",
    "        return sibs[i]\n",
    "    \n",
    "def get_prev_sibling(h):\n",
    "    \"\"\" Returns None if h is the first child\n",
    "    \"\"\"\n",
    "    sibs = get_siblings(h)\n",
    "    i = sibs.index(h) - 1\n",
    "    \n",
    "    if i < 0:\n",
    "        return None\n",
    "    else:\n",
    "        return sibs[i]\n",
    "    \n",
    "def is_a_first_child(h):\n",
    "    if h3.h3_get_resolution(h) == 0:\n",
    "        return False\n",
    "\n",
    "    if get_prev_sibling(h) is None:\n",
    "        return True\n",
    "    else:\n",
    "        return False\n",
    "    \n",
    "def is_first_descendent_of(p, h):\n",
    "    res_p = h3.h3_get_resolution(p)\n",
    "    res_h = h3.h3_get_resolution(h)\n",
    "    \n",
    "    if res_p <= res_h and h3.h3_to_parent(h, res_p):\n",
    "        return is_a_first_child(h)\n",
    "    else:\n",
    "        return False\n",
    "    \n",
    "def siblings_up_to(h):\n",
    "    sibs = get_siblings(h)\n",
    "    for sib in sibs:\n",
    "        yield sib\n",
    "        if sib == h:\n",
    "            break"
   ]
  },
  {
   "cell_type": "code",
   "execution_count": 4,
   "metadata": {},
   "outputs": [],
   "source": [
    "h = h3.geo_to_h3(0,0,5)"
   ]
  },
  {
   "cell_type": "code",
   "execution_count": 5,
   "metadata": {},
   "outputs": [
    {
     "data": {
      "text/plain": [
       "['85754e63fffffff',\n",
       " '85754e67fffffff',\n",
       " '85754e6bfffffff',\n",
       " '85754e6ffffffff',\n",
       " '85754e73fffffff',\n",
       " '85754e77fffffff',\n",
       " '85754e7bfffffff']"
      ]
     },
     "execution_count": 5,
     "metadata": {},
     "output_type": "execute_result"
    }
   ],
   "source": [
    "get_siblings(h)"
   ]
  },
  {
   "cell_type": "code",
   "execution_count": 6,
   "metadata": {},
   "outputs": [],
   "source": [
    "def step(state):\n",
    "    state = state.copy()\n",
    "    i = state.i\n",
    "    j = state.j\n",
    "    k = state.k\n",
    "    arr = state.arr\n",
    "    \n",
    "    assert i <= j <= k <= len(arr)\n",
    "  \n",
    "    # check for completed set...\n",
    "    if i < j:\n",
    "        h = arr[j-1]\n",
    "        # check for completed children set\n",
    "        if get_next_sibling(h) is None:\n",
    "            j -= 7 # need to work on pentagons\n",
    "            \n",
    "            arr[j] = h3.h3_to_parent(h)\n",
    "            j += 1\n",
    "            return State(i,j,k,arr)\n",
    "\n",
    "    if i == j:  # if stack is empty\n",
    "        if k >= len(arr):\n",
    "            raise Exception('done iterating') # maybe flush stack?\n",
    "            \n",
    "        h = arr[k]\n",
    "        \n",
    "        if is_a_first_child(h):\n",
    "            arr[j] = arr[k]\n",
    "            j += 1\n",
    "            k += 1\n",
    "            return State(i,j,k,arr)\n",
    "        else:\n",
    "            # flush element and stack stays empty\n",
    "            arr[j] = arr[k]\n",
    "            i += 1\n",
    "            j += 1\n",
    "            k += 1\n",
    "            return State(i,j,k,arr)\n",
    "            \n",
    "    \n",
    "    if i < j: # stack not empty\n",
    "        if k >= len(arr):\n",
    "            raise Exception('done iterating') # maybe flush stack?\n",
    "        h = arr[k]\n",
    "        k += 1\n",
    "        \n",
    "        # easy to check next sibling with subtraction: expect a 1, just shifted by resolution\n",
    "        next_wanted = get_next_sibling(arr[j-1])\n",
    "        \n",
    "        if h == next_wanted:\n",
    "            # push h onto stack\n",
    "            arr[j] = h\n",
    "            j += 1\n",
    "            return State(i,j,k,arr)\n",
    "        \n",
    "        elif is_first_descendent_of(next_wanted, h):  ## we can combine these two!!!\n",
    "            arr[j] = h\n",
    "            j += 1\n",
    "            return State(i,j,k,arr)\n",
    "        else: # flush the stack\n",
    "            i = j # make stack empty\n",
    "            k -= 1 # re run that element\n",
    "            return State(i,j,k,arr)\n",
    "\n",
    "\n",
    "    "
   ]
  },
  {
   "cell_type": "code",
   "execution_count": 91,
   "metadata": {},
   "outputs": [],
   "source": [
    "h = h3.geo_to_h3(0,0,5)\n",
    "\n",
    "hexes = sorted(h3.h3_to_children(h, 7))[1:]\n",
    "\n",
    "state = State(0,0,0, hexes)\n",
    "#hexes"
   ]
  },
  {
   "cell_type": "code",
   "execution_count": 92,
   "metadata": {},
   "outputs": [
    {
     "data": {
      "text/plain": [
       "'85754e67fffffff'"
      ]
     },
     "execution_count": 92,
     "metadata": {},
     "output_type": "execute_result"
    }
   ],
   "source": [
    "h"
   ]
  },
  {
   "cell_type": "code",
   "execution_count": 93,
   "metadata": {},
   "outputs": [
    {
     "data": {
      "text/plain": [
       "48"
      ]
     },
     "execution_count": 93,
     "metadata": {},
     "output_type": "execute_result"
    }
   ],
   "source": [
    "len(hexes)"
   ]
  },
  {
   "cell_type": "code",
   "execution_count": 118,
   "metadata": {},
   "outputs": [],
   "source": [
    "#for _ in range(1):\n",
    "state = step(state)"
   ]
  },
  {
   "cell_type": "code",
   "execution_count": 119,
   "metadata": {},
   "outputs": [
    {
     "data": {
      "text/plain": [
       "['87754e641ffffff',\n",
       " '87754e642ffffff',\n",
       " '87754e643ffffff',\n",
       " '87754e644ffffff',\n",
       " '87754e645ffffff',\n",
       " '87754e646ffffff']"
      ]
     },
     "execution_count": 119,
     "metadata": {},
     "output_type": "execute_result"
    }
   ],
   "source": [
    "state.arr[:state.i]"
   ]
  },
  {
   "cell_type": "code",
   "execution_count": 120,
   "metadata": {},
   "outputs": [
    {
     "data": {
      "text/plain": [
       "['86754e64fffffff']"
      ]
     },
     "execution_count": 120,
     "metadata": {},
     "output_type": "execute_result"
    }
   ],
   "source": [
    "state.arr[state.i:state.j]"
   ]
  },
  {
   "cell_type": "code",
   "execution_count": 121,
   "metadata": {},
   "outputs": [],
   "source": [
    "#state.arr[state.k:]"
   ]
  },
  {
   "cell_type": "code",
   "execution_count": 122,
   "metadata": {},
   "outputs": [
    {
     "data": {
      "text/plain": [
       "(6, 7, 13)"
      ]
     },
     "execution_count": 122,
     "metadata": {},
     "output_type": "execute_result"
    }
   ],
   "source": [
    "state.i, state.j, state.k"
   ]
  },
  {
   "cell_type": "code",
   "execution_count": 115,
   "metadata": {},
   "outputs": [],
   "source": [
    "state0 = state.copy()"
   ]
  },
  {
   "cell_type": "code",
   "execution_count": 117,
   "metadata": {},
   "outputs": [],
   "source": [
    "#state0"
   ]
  },
  {
   "cell_type": "code",
   "execution_count": null,
   "metadata": {},
   "outputs": [],
   "source": []
  }
 ],
 "metadata": {
  "kernelspec": {
   "display_name": "Python 3",
   "language": "python",
   "name": "python3"
  },
  "language_info": {
   "codemirror_mode": {
    "name": "ipython",
    "version": 3
   },
   "file_extension": ".py",
   "mimetype": "text/x-python",
   "name": "python",
   "nbconvert_exporter": "python",
   "pygments_lexer": "ipython3",
   "version": "3.8.5"
  }
 },
 "nbformat": 4,
 "nbformat_minor": 4
}
